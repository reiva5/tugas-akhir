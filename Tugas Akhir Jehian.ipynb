{
 "cells": [
  {
   "cell_type": "code",
   "execution_count": 26,
   "metadata": {},
   "outputs": [],
   "source": [
    "from rdflib.graph import Graph\n",
    "import rdflib\n",
    "from rdflib.extras.external_graph_libs import rdflib_to_networkx_multidigraph\n",
    "import networkx as nx\n",
    "import matplotlib.pyplot as plt\n",
    "from os import listdir\n",
    "from os.path import isfile, join\n",
    "from tqdm import tqdm\n",
    "import psutil"
   ]
  },
  {
   "cell_type": "code",
   "execution_count": 27,
   "metadata": {},
   "outputs": [
    {
     "name": "stderr",
     "output_type": "stream",
     "text": [
      "/home/jehiannormansaviero/environments/reiva5/lib/python3.6/site-packages/networkx/drawing/nx_pylab.py:579: MatplotlibDeprecationWarning: \n",
      "The iterable function was deprecated in Matplotlib 3.1 and will be removed in 3.3. Use np.iterable instead.\n",
      "  if not cb.iterable(width):\n"
     ]
    },
    {
     "name": "stdout",
     "output_type": "stream",
     "text": [
      "[(1, 3), (1, 5)]\n"
     ]
    },
    {
     "data": {
      "image/png": "[encoded data removed]",
      "text/plain": [
       "<Figure size 432x288 with 1 Axes>"
      ]
     },
     "metadata": {},
     "output_type": "display_data"
    }
   ],
   "source": [
    "from networkx.algorithms.approximation.steinertree import steiner_tree\n",
    "import networkx as nx\n",
    "\n",
    "G = nx.Graph()\n",
    "G.add_nodes_from([x for x in range(7)])\n",
    "for u in range(7):\n",
    "    for v in range(u+1, 7):\n",
    "        G.add_edge(u,v)\n",
    "\n",
    "res = steiner_tree(G, [1, 3, 5])\n",
    "pos = nx.spring_layout(G, scale=0.5)\n",
    "nx.draw_networkx_labels(G, pos)\n",
    "nx.draw_networkx_edges(G, pos, edgelist=res.edges, edge_color='r', arrows=True)\n",
    "other = []\n",
    "for x in G.edges:\n",
    "    if x not in res.edges:\n",
    "        other.append(x)\n",
    "nx.draw_networkx_edges(G, pos, edgelist=other, arrows=False)\n",
    "print(res.edges)\n",
    "plt.show()"
   ]
  },
  {
   "cell_type": "markdown",
   "metadata": {},
   "source": [
    "# Useful Method"
   ]
  },
  {
   "cell_type": "code",
   "execution_count": 5,
   "metadata": {},
   "outputs": [
    {
     "name": "stdout",
     "output_type": "stream",
     "text": [
      "CPU times: user 4 µs, sys: 2 µs, total: 6 µs\n",
      "Wall time: 9.06 µs\n"
     ]
    }
   ],
   "source": [
    "%%time\n",
    "# Parse URL into readable information\n",
    "def getDesc(s):\n",
    "    curr = -1\n",
    "    while s.find(\"/\", curr+1) != -1:\n",
    "        curr = s.find(\"/\", curr+1)\n",
    "    return s[curr+1:]\n",
    "\n",
    "hash_table = dict()\n",
    "value_table = []\n",
    "last_hash_value = 0\n",
    "\n",
    "# Doing hash\n",
    "def encryptHash(s):\n",
    "    global hash_table\n",
    "    return hash_table[s]\n",
    "\n",
    "def decrpytHash(val):\n",
    "    global value_table\n",
    "    return value_table[val]\n",
    "\n",
    "def doHash(s):\n",
    "    global hash_table\n",
    "    global last_hash_value\n",
    "    if s not in hash_table:\n",
    "        hash_table[s] = last_hash_value\n",
    "        value_table.append(s)\n",
    "        last_hash_value += 1Joko_Widodo"
   ]
  },
  {
   "cell_type": "markdown",
   "metadata": {},
   "source": [
    "# Read RDF Graph"
   ]
  },
  {
   "cell_type": "markdown",
   "metadata": {},
   "source": [
    "## Read RDF Graph from nt file"
   ]
  },
  {
   "cell_type": "markdown",
   "metadata": {},
   "source": [
    "### Get data from property edge"
   ]
  },
  {
   "cell_type": "code",
   "execution_count": 6,
   "metadata": {},
   "outputs": [
    {
     "name": "stderr",
     "output_type": "stream",
     "text": [
      "  4%|▍         | 1/26 [02:22<59:15, 142.23s/it]"
     ]
    },
    {
     "name": "stdout",
     "output_type": "stream",
     "text": [
      "svmem(total=54869778432, available=51270402048, percent=6.6, used=2953199616, free=44248268800, active=9070407680, inactive=957169664, buffers=94359552, cached=7573950464, shared=917504, slab=372051968)\n"
     ]
    },
    {
     "name": "stderr",
     "output_type": "stream",
     "text": [
      "http://dbpedia.org/datatype/polishZ\\u0142oty does not look like a valid URI, trying to serialize this will break.\n",
      "http://dbpedia.org/datatype/polishZ\\u0142oty does not look like a valid URI, trying to serialize this will break.\n",
      "  8%|▊         | 2/26 [04:32<55:30, 138.76s/it]"
     ]
    },
    {
     "name": "stdout",
     "output_type": "stream",
     "text": [
      "svmem(total=54869778432, available=50353315840, percent=8.2, used=3870289920, free=43331141632, active=9984655360, inactive=957169664, buffers=94392320, cached=7573954560, shared=917504, slab=372166656)\n"
     ]
    },
    {
     "name": "stderr",
     "output_type": "stream",
     "text": [
      "http://dbpedia.org/datatype/polishZ\\u0142oty does not look like a valid URI, trying to serialize this will break.\n",
      " 12%|█▏        | 3/26 [07:00<54:09, 141.28s/it]"
     ]
    },
    {
     "name": "stdout",
     "output_type": "stream",
     "text": [
      "svmem(total=54869778432, available=49378885632, percent=10.0, used=4844716032, free=42356678656, active=10957799424, inactive=957169664, buffers=94429184, cached=7573954560, shared=917504, slab=372183040)\n"
     ]
    },
    {
     "name": "stderr",
     "output_type": "stream",
     "text": [
      "\r",
      " 15%|█▌        | 4/26 [09:06<50:13, 136.97s/it]"
     ]
    },
    {
     "name": "stdout",
     "output_type": "stream",
     "text": [
      "svmem(total=54869778432, available=48418828288, percent=11.8, used=5804781568, free=41396596736, active=11916754944, inactive=957169664, buffers=94445568, cached=7573954560, shared=917504, slab=372260864)\n"
     ]
    },
    {
     "name": "stderr",
     "output_type": "stream",
     "text": [
      "http://dbpedia.org/datatype/nicaraguanC\\u00F3rdoba does not look like a valid URI, trying to serialize this will break.\n",
      "http://dbpedia.org/datatype/nicaraguanC\\u00F3rdoba does not look like a valid URI, trying to serialize this will break.\n",
      "http://dbpedia.org/datatype/nicaraguanC\\u00F3rdoba does not look like a valid URI, trying to serialize this will break.\n",
      "http://dbpedia.org/datatype/nicaraguanC\\u00F3rdoba does not look like a valid URI, trying to serialize this will break.\n",
      "http://dbpedia.org/datatype/nicaraguanC\\u00F3rdoba does not look like a valid URI, trying to serialize this will break.\n",
      " 19%|█▉        | 5/26 [11:36<49:16, 140.78s/it]"
     ]
    },
    {
     "name": "stdout",
     "output_type": "stream",
     "text": [
      "svmem(total=54869778432, available=47511904256, percent=13.4, used=6711705600, free=40489635840, active=12822749184, inactive=957169664, buffers=94486528, cached=7573950464, shared=917504, slab=372260864)\n"
     ]
    },
    {
     "name": "stderr",
     "output_type": "stream",
     "text": [
      "http://dbpedia.org/datatype/polishZ\\u0142oty does not look like a valid URI, trying to serialize this will break.\n",
      " 23%|██▎       | 6/26 [13:51<46:22, 139.13s/it]"
     ]
    },
    {
     "name": "stdout",
     "output_type": "stream",
     "text": [
      "svmem(total=54869778432, available=46525161472, percent=15.2, used=7698444288, free=39502864384, active=13807939584, inactive=957173760, buffers=94507008, cached=7573962752, shared=917504, slab=372293632)\n"
     ]
    },
    {
     "name": "stderr",
     "output_type": "stream",
     "text": [
      "http://dbpedia.org/datatype/nicaraguanC\\u00F3rdoba does not look like a valid URI, trying to serialize this will break.\n",
      "http://dbpedia.org/datatype/polishZ\\u0142oty does not look like a valid URI, trying to serialize this will break.\n",
      "http://dbpedia.org/datatype/polishZ\\u0142oty does not look like a valid URI, trying to serialize this will break.\n",
      "http://dbpedia.org/datatype/nicaraguanC\\u00F3rdoba does not look like a valid URI, trying to serialize this will break.\n",
      "http://dbpedia.org/datatype/nicaraguanC\\u00F3rdoba does not look like a valid URI, trying to serialize this will break.\n",
      "http://dbpedia.org/datatype/nicaraguanC\\u00F3rdoba does not look like a valid URI, trying to serialize this will break.\n",
      "http://dbpedia.org/datatype/nicaraguanC\\u00F3rdoba does not look like a valid URI, trying to serialize this will break.\n",
      " 27%|██▋       | 7/26 [16:15<44:29, 140.49s/it]"
     ]
    },
    {
     "name": "stdout",
     "output_type": "stream",
     "text": [
      "svmem(total=54869778432, available=45831684096, percent=16.5, used=8391921664, free=38809337856, active=14500810752, inactive=957177856, buffers=94552064, cached=7573966848, shared=917504, slab=372318208)\n"
     ]
    },
    {
     "name": "stderr",
     "output_type": "stream",
     "text": [
      "http://dbpedia.org/datatype/nicaraguanC\\u00F3rdoba does not look like a valid URI, trying to serialize this will break.\n",
      " 31%|███       | 8/26 [18:45<42:57, 143.19s/it]"
     ]
    },
    {
     "name": "stdout",
     "output_type": "stream",
     "text": [
      "svmem(total=54869778432, available=44830826496, percent=18.3, used=9392775168, free=37808463872, active=15499599872, inactive=957173760, buffers=94576640, cached=7573962752, shared=917504, slab=372363264)\n"
     ]
    },
    {
     "name": "stderr",
     "output_type": "stream",
     "text": [
      "\r",
      " 35%|███▍      | 9/26 [21:11<40:50, 144.14s/it]"
     ]
    },
    {
     "name": "stdout",
     "output_type": "stream",
     "text": [
      "svmem(total=54869778432, available=43995770880, percent=19.8, used=10227834880, free=36973387776, active=16333086720, inactive=957173760, buffers=94593024, cached=7573962752, shared=917504, slab=372400128)\n"
     ]
    },
    {
     "name": "stderr",
     "output_type": "stream",
     "text": [
      "http://dbpedia.org/datatype/polishZ\\u0142oty does not look like a valid URI, trying to serialize this will break.\n",
      " 38%|███▊      | 10/26 [23:39<38:45, 145.36s/it]"
     ]
    },
    {
     "name": "stdout",
     "output_type": "stream",
     "text": [
      "svmem(total=54869778432, available=43005050880, percent=21.6, used=11218558976, free=35982643200, active=17319202816, inactive=957173760, buffers=94609408, cached=7573966848, shared=917504, slab=372412416)\n"
     ]
    },
    {
     "name": "stderr",
     "output_type": "stream",
     "text": [
      "\r",
      " 42%|████▏     | 11/26 [25:39<34:23, 137.59s/it]"
     ]
    },
    {
     "name": "stdout",
     "output_type": "stream",
     "text": [
      "svmem(total=54869778432, available=41785126912, percent=23.8, used=12438482944, free=34762686464, active=18536951808, inactive=957173760, buffers=94638080, cached=7573970944, shared=917504, slab=372416512)\n"
     ]
    },
    {
     "name": "stderr",
     "output_type": "stream",
     "text": [
      "\r",
      " 46%|████▌     | 12/26 [28:14<33:21, 142.98s/it]"
     ]
    },
    {
     "name": "stdout",
     "output_type": "stream",
     "text": [
      "svmem(total=54869778432, available=40947257344, percent=25.4, used=13276352512, free=33924784128, active=19373080576, inactive=957177856, buffers=94666752, cached=7573975040, shared=917504, slab=372510720)\n"
     ]
    },
    {
     "name": "stderr",
     "output_type": "stream",
     "text": [
      "http://dbpedia.org/datatype/polishZ\\u0142oty does not look like a valid URI, trying to serialize this will break.\n",
      " 50%|█████     | 13/26 [30:49<31:44, 146.53s/it]"
     ]
    },
    {
     "name": "stdout",
     "output_type": "stream",
     "text": [
      "svmem(total=54869778432, available=40103780352, percent=26.9, used=14119825408, free=33081294848, active=20215615488, inactive=957177856, buffers=94683136, cached=7573975040, shared=917504, slab=372547584)\n"
     ]
    },
    {
     "name": "stderr",
     "output_type": "stream",
     "text": [
      "http://dbpedia.org/datatype/polishZ\\u0142oty does not look like a valid URI, trying to serialize this will break.\n",
      "http://dbpedia.org/datatype/polishZ\\u0142oty does not look like a valid URI, trying to serialize this will break.\n",
      "http://dbpedia.org/datatype/polishZ\\u0142oty does not look like a valid URI, trying to serialize this will break.\n",
      "http://dbpedia.org/datatype/polishZ\\u0142oty does not look like a valid URI, trying to serialize this will break.\n",
      "http://dbpedia.org/datatype/polishZ\\u0142oty does not look like a valid URI, trying to serialize this will break.\n",
      "http://dbpedia.org/datatype/polishZ\\u0142oty does not look like a valid URI, trying to serialize this will break.\n",
      " 54%|█████▍    | 14/26 [32:51<27:51, 139.26s/it]"
     ]
    },
    {
     "name": "stdout",
     "output_type": "stream",
     "text": [
      "svmem(total=54869778432, available=39079960576, percent=28.8, used=15143649280, free=32057466880, active=21236666368, inactive=957181952, buffers=94687232, cached=7573975040, shared=917504, slab=372588544)\n"
     ]
    },
    {
     "name": "stderr",
     "output_type": "stream",
     "text": [
      "http://dbpedia.org/datatype/polishZ\\u0142oty does not look like a valid URI, trying to serialize this will break.\n",
      "http://dbpedia.org/datatype/polishZ\\u0142oty does not look like a valid URI, trying to serialize this will break.\n",
      "http://dbpedia.org/datatype/polishZ\\u0142oty does not look like a valid URI, trying to serialize this will break.\n",
      " 58%|█████▊    | 15/26 [35:40<27:09, 148.13s/it]"
     ]
    },
    {
     "name": "stdout",
     "output_type": "stream",
     "text": [
      "svmem(total=54869778432, available=37962297344, percent=30.8, used=16261308416, free=30938329088, active=22352261120, inactive=958300160, buffers=94781440, cached=7575359488, shared=917504, slab=373182464)\n"
     ]
    },
    {
     "name": "stderr",
     "output_type": "stream",
     "text": [
      "http://dbpedia.org/datatype/polishZ\\u0142oty does not look like a valid URI, trying to serialize this will break.\n",
      "http://dbpedia.org/datatype/polishZ\\u0142oty does not look like a valid URI, trying to serialize this will break.\n",
      "http://dbpedia.org/datatype/polishZ\\u0142oty does not look like a valid URI, trying to serialize this will break.\n",
      "http://dbpedia.org/datatype/polishZ\\u0142oty does not look like a valid URI, trying to serialize this will break.\n",
      "http://dbpedia.org/datatype/polishZ\\u0142oty does not look like a valid URI, trying to serialize this will break.\n",
      "http://dbpedia.org/datatype/polishZ\\u0142oty does not look like a valid URI, trying to serialize this will break.\n",
      " 62%|██████▏   | 16/26 [37:40<23:15, 139.59s/it]"
     ]
    },
    {
     "name": "stdout",
     "output_type": "stream",
     "text": [
      "svmem(total=54869778432, available=37225951232, percent=32.2, used=16997654528, free=30201573376, active=23087820800, inactive=958205952, buffers=94797824, cached=7575752704, shared=917504, slab=373592064)\n"
     ]
    },
    {
     "name": "stderr",
     "output_type": "stream",
     "text": [
      "\r",
      " 65%|██████▌   | 17/26 [40:26<22:09, 147.72s/it]"
     ]
    },
    {
     "name": "stdout",
     "output_type": "stream",
     "text": [
      "svmem(total=54869778432, available=36090134528, percent=34.2, used=18133475328, free=29065728000, active=24221507584, inactive=958205952, buffers=94822400, cached=7575752704, shared=917504, slab=373620736)\n"
     ]
    },
    {
     "name": "stderr",
     "output_type": "stream",
     "text": [
      "http://dbpedia.org/datatype/nicaraguanC\\u00F3rdoba does not look like a valid URI, trying to serialize this will break.\n",
      "http://dbpedia.org/datatype/nicaraguanC\\u00F3rdoba does not look like a valid URI, trying to serialize this will break.\n",
      "http://dbpedia.org/datatype/nicaraguanC\\u00F3rdoba does not look like a valid URI, trying to serialize this will break.\n",
      "http://dbpedia.org/datatype/polishZ\\u0142oty does not look like a valid URI, trying to serialize this will break.\n",
      " 69%|██████▉   | 18/26 [42:27<18:35, 139.43s/it]"
     ]
    },
    {
     "name": "stdout",
     "output_type": "stream",
     "text": [
      "svmem(total=54869778432, available=35787227136, percent=34.8, used=18436382720, free=28762791936, active=24524165120, inactive=958210048, buffers=94842880, cached=7575760896, shared=917504, slab=373624832)\n"
     ]
    },
    {
     "name": "stderr",
     "output_type": "stream",
     "text": [
      "http://dbpedia.org/datatype/polishZ\\u0142oty does not look like a valid URI, trying to serialize this will break.\n",
      " 73%|███████▎  | 19/26 [44:28<15:37, 133.91s/it]"
     ]
    },
    {
     "name": "stdout",
     "output_type": "stream",
     "text": [
      "svmem(total=54869778432, available=34343378944, percent=37.4, used=19880226816, free=27318931456, active=25965682688, inactive=958210048, buffers=94859264, cached=7575760896, shared=917504, slab=373624832)\n"
     ]
    },
    {
     "name": "stderr",
     "output_type": "stream",
     "text": [
      "\r",
      " 77%|███████▋  | 20/26 [47:19<14:31, 145.27s/it]"
     ]
    },
    {
     "name": "stdout",
     "output_type": "stream",
     "text": [
      "svmem(total=54869778432, available=33762836480, percent=38.5, used=20460773376, free=26738360320, active=26544435200, inactive=958210048, buffers=94879744, cached=7575764992, shared=917504, slab=373653504)\n"
     ]
    },
    {
     "name": "stderr",
     "output_type": "stream",
     "text": [
      "http://dbpedia.org/datatype/nicaraguanC\\u00F3rdoba does not look like a valid URI, trying to serialize this will break.\n",
      " 81%|████████  | 21/26 [49:19<11:27, 137.56s/it]"
     ]
    },
    {
     "name": "stdout",
     "output_type": "stream",
     "text": [
      "svmem(total=54869778432, available=32915353600, percent=40.0, used=21308256256, free=25890844672, active=27390926848, inactive=958210048, buffers=94912512, cached=7575764992, shared=917504, slab=373866496)\n"
     ]
    },
    {
     "name": "stderr",
     "output_type": "stream",
     "text": [
      "http://dbpedia.org/datatype/polishZ\\u0142oty does not look like a valid URI, trying to serialize this will break.\n",
      "http://dbpedia.org/datatype/polishZ\\u0142oty does not look like a valid URI, trying to serialize this will break.\n",
      " 85%|████████▍ | 22/26 [51:25<08:56, 134.18s/it]"
     ]
    },
    {
     "name": "stdout",
     "output_type": "stream",
     "text": [
      "svmem(total=54869778432, available=31788953600, percent=42.1, used=22434656256, free=24764428288, active=28514725888, inactive=958210048, buffers=94928896, cached=7575764992, shared=917504, slab=373944320)\n"
     ]
    },
    {
     "name": "stderr",
     "output_type": "stream",
     "text": [
      "http://dbpedia.org/datatype/polishZ\\u0142oty does not look like a valid URI, trying to serialize this will break.\n",
      " 88%|████████▊ | 23/26 [54:30<07:28, 149.51s/it]"
     ]
    },
    {
     "name": "stdout",
     "output_type": "stream",
     "text": [
      "svmem(total=54869778432, available=30992769024, percent=43.5, used=23230832640, free=23968198656, active=29309632512, inactive=958214144, buffers=94978048, cached=7575769088, shared=917504, slab=373850112)\n"
     ]
    },
    {
     "name": "stderr",
     "output_type": "stream",
     "text": [
      "\r",
      " 92%|█████████▏| 24/26 [56:20<04:35, 137.59s/it]"
     ]
    },
    {
     "name": "stdout",
     "output_type": "stream",
     "text": [
      "svmem(total=54869778432, available=30132187136, percent=45.1, used=24091418624, free=23107600384, active=30165708800, inactive=958214144, buffers=94990336, cached=7575769088, shared=917504, slab=373637120)\n"
     ]
    },
    {
     "name": "stderr",
     "output_type": "stream",
     "text": [
      "http://dbpedia.org/datatype/polishZ\\u0142oty does not look like a valid URI, trying to serialize this will break.\n",
      " 96%|█████████▌| 25/26 [58:25<02:13, 133.77s/it]"
     ]
    },
    {
     "name": "stdout",
     "output_type": "stream",
     "text": [
      "svmem(total=54869778432, available=28876259328, percent=47.4, used=25347346432, free=21851643904, active=31419768832, inactive=958214144, buffers=95014912, cached=7575773184, shared=917504, slab=373649408)\n"
     ]
    },
    {
     "name": "stderr",
     "output_type": "stream",
     "text": [
      "http://dbpedia.org/datatype/polishZ\\u0142oty does not look like a valid URI, trying to serialize this will break.\n",
      "http://dbpedia.org/datatype/polishZ\\u0142oty does not look like a valid URI, trying to serialize this will break.\n",
      "100%|██████████| 26/26 [1:01:37<00:00, 151.30s/it]"
     ]
    },
    {
     "name": "stdout",
     "output_type": "stream",
     "text": [
      "svmem(total=54869778432, available=28120932352, percent=48.7, used=26102677504, free=21096280064, active=32173096960, inactive=958214144, buffers=95047680, cached=7575773184, shared=917504, slab=373678080)\n",
      "CPU times: user 59min 34s, sys: 2min 8s, total: 1h 1min 43s\n",
      "Wall time: 1h 1min 37s\n"
     ]
    },
    {
     "name": "stderr",
     "output_type": "stream",
     "text": [
      "\n"
     ]
    }
   ],
   "source": [
    "%%time\n",
    "mypath = \"/home/jehiannormansaviero/tugas-akhir/tugas-akhir/mapping_properties_chunk\"\n",
    "onlyfiles = [f for f in listdir(mypath) if isfile(join(mypath, f))]\n",
    "WordToLink = dict() # To compress link into simple string\n",
    "simple_rdfg = dict() #\n",
    "full_rdfg = dict()\n",
    "edge_names = dict()\n",
    "anti_full_rdfg = dict()\n",
    "vertices_at_edge = dict()\n",
    "class_type = set()\n",
    "\n",
    "classOf = \"22-rdf-syntax-ns#type\"\n",
    "typeOf = \"type\"\n",
    "subClassOf = \"rdf-schema#subClassOf\"\n",
    "\n",
    "for filename in tqdm(onlyfiles):\n",
    "    filename = \"mapping_properties_chunk/\" + filename\n",
    "\n",
    "    g = Graph()\n",
    "    result = g.parse(filename, format=\"nt\")\n",
    "    G = rdflib_to_networkx_multidigraph(result)\n",
    "\n",
    "    for stmt in result:\n",
    "        u, edge, v = [getDesc(x).lower() for x in stmt]\n",
    "        if u not in WordToLink:\n",
    "            WordToLink[u] = set()\n",
    "        WordToLink[u].add(stmt[0])\n",
    "        \n",
    "        if edge not in WordToLink:\n",
    "            WordToLink[edge] = set()\n",
    "        WordToLink[edge].add(stmt[1])\n",
    "\n",
    "        if v[:4] == \"http\":\n",
    "            if v not in WordToLink:\n",
    "                WordToLink[v] = set()\n",
    "            WordToLink[v].add(stmt[2])\n",
    "\n",
    "#         doHash(u)\n",
    "#         doHash(edge)\n",
    "#         doHash(v)\n",
    "        \n",
    "#         u = encryptHash(u)\n",
    "#         edge = encryptHash(edge)\n",
    "#         v = encryptHash(v)\n",
    "        \n",
    "        if u not in simple_rdfg:\n",
    "            simple_rdfg[u] = set()\n",
    "        simple_rdfg[u].add(v)\n",
    "\n",
    "        if u not in edge_names:\n",
    "            full_rdfg[u] = dict()\n",
    "            edge_names[u] = dict()\n",
    "        \n",
    "        if v not in anti_full_rdfg:\n",
    "            anti_full_rdfg[v] = dict()\n",
    "        edge_names[u][v] = edge\n",
    "        \n",
    "        if edge not in anti_full_rdfg[v]:\n",
    "            anti_full_rdfg[v][edge] = set()\n",
    "        anti_full_rdfg[v][edge].add(u)\n",
    "        \n",
    "        if edge not in full_rdfg[u]:\n",
    "            full_rdfg[u][edge] = set()\n",
    "        full_rdfg[u][edge].add(v)\n",
    "\n",
    "        if edge not in vertices_at_edge:\n",
    "            vertices_at_edge[edge] = []\n",
    "        vertices_at_edge[edge].append([u,v])\n",
    "\n",
    "    print(psutil.virtual_memory())\n",
    "# Plot Networkx instance of RDF Graph\n",
    "# pos = nx.spring_layout(G, scale=4)\n",
    "# edge_labels = nx.get_edge_attributes(G, 'r')\n",
    "# nx.draw_networkx_edge_labels(G, pos, labels=edge_labels)\n",
    "# nx.draw(G, with_labels=True)"
   ]
  },
  {
   "cell_type": "markdown",
   "metadata": {},
   "source": [
    "### Get data from type edge"
   ]
  },
  {
   "cell_type": "code",
   "execution_count": 8,
   "metadata": {},
   "outputs": [
    {
     "name": "stderr",
     "output_type": "stream",
     "text": [
      "100%|██████████| 16/16 [31:38<00:00, 116.07s/it]"
     ]
    },
    {
     "name": "stdout",
     "output_type": "stream",
     "text": [
      "CPU times: user 30min 40s, sys: 1min, total: 31min 40s\n",
      "Wall time: 31min 38s\n"
     ]
    },
    {
     "name": "stderr",
     "output_type": "stream",
     "text": [
      "\n"
     ]
    }
   ],
   "source": [
    "%%time\n",
    "mypath = \"/home/jehiannormansaviero/tugas-akhir/tugas-akhir/mapping_type_chunk\"\n",
    "onlyfiles = [f for f in listdir(mypath) if isfile(join(mypath, f))]\n",
    "for filename in tqdm(onlyfiles):\n",
    "    filename = \"mapping_type_chunk/\" + filename\n",
    "    g = Graph()\n",
    "    result = g.parse(filename, format=\"nt\")\n",
    "    G = rdflib_to_networkx_multidigraph(result)\n",
    "\n",
    "    for stmt in result:\n",
    "        u, edge, v = [getDesc(x).lower() for x in stmt]\n",
    "        if u not in simple_rdfg:\n",
    "            simple_rdfg[u] = set()\n",
    "        simple_rdfg[u].add(v)\n",
    "        if u not in edge_names:\n",
    "            full_rdfg[u] = dict()\n",
    "            edge_names[u] = dict()\n",
    "        if v not in anti_full_rdfg:\n",
    "            anti_full_rdfg[v] = dict()\n",
    "        edge_names[u][v] = edge\n",
    "        if edge not in anti_full_rdfg[v]:\n",
    "            anti_full_rdfg[v][edge] = set()\n",
    "        anti_full_rdfg[v][edge].add(u)\n",
    "        if edge not in full_rdfg[u]:\n",
    "            full_rdfg[u][edge] = set()\n",
    "        full_rdfg[u][edge].add(v)\n",
    "        if edge not in vertices_at_edge:\n",
    "            vertices_at_edge[edge] = []\n",
    "        vertices_at_edge[edge].append([u,v])\n",
    "        if edge == classOf:\n",
    "            class_type.add(v)\n",
    "        \n",
    "        for item in stmt:\n",
    "            if item[:4] == \"http\":\n",
    "                tmp = getDesc(item)\n",
    "                tmp = tmp.lower()\n",
    "                if tmp not in WordToLink:\n",
    "                    WordToLink[tmp] = set()\n",
    "                WordToLink[tmp].add(item)\n"
   ]
  },
  {
   "cell_type": "markdown",
   "metadata": {},
   "source": [
    "## Get the RDF Graph"
   ]
  },
  {
   "cell_type": "code",
   "execution_count": 9,
   "metadata": {},
   "outputs": [
    {
     "name": "stdout",
     "output_type": "stream",
     "text": [
      "CPU times: user 4 µs, sys: 1e+03 ns, total: 5 µs\n",
      "Wall time: 6.68 µs\n"
     ]
    },
    {
     "data": {
      "text/plain": [
       "{'academicjournal',\n",
       " 'activity',\n",
       " 'actor',\n",
       " 'administrativearea',\n",
       " 'administrativeregion',\n",
       " 'adultactor',\n",
       " 'agent',\n",
       " 'aircraft',\n",
       " 'airline',\n",
       " 'airport',\n",
       " 'album',\n",
       " 'amateurboxer',\n",
       " 'ambassador',\n",
       " 'americanfootballleague',\n",
       " 'americanfootballplayer',\n",
       " 'americanfootballteam',\n",
       " 'amphibian',\n",
       " 'anatomicalstructure',\n",
       " 'animal',\n",
       " 'animangacharacter',\n",
       " 'anime',\n",
       " 'arachnid',\n",
       " 'archaea',\n",
       " 'architect',\n",
       " 'architecturalstructure',\n",
       " 'artery',\n",
       " 'artist',\n",
       " 'artistdiscography',\n",
       " 'artwork',\n",
       " 'astronaut',\n",
       " 'athlete',\n",
       " 'australianfootballleague',\n",
       " 'australianrulesfootballplayer',\n",
       " 'automobile',\n",
       " 'automobileengine',\n",
       " 'autoracingleague',\n",
       " 'award',\n",
       " 'bacteria',\n",
       " 'badmintonplayer',\n",
       " 'band',\n",
       " 'baseballleague',\n",
       " 'baseballplayer',\n",
       " 'basketballleague',\n",
       " 'basketballplayer',\n",
       " 'basketballteam',\n",
       " 'beachvolleyballplayer',\n",
       " 'beautyqueen',\n",
       " 'beverage',\n",
       " 'biologicaldatabase',\n",
       " 'biomolecule',\n",
       " 'bird',\n",
       " 'bodybuilder',\n",
       " 'bodyofwater',\n",
       " 'bone',\n",
       " 'book',\n",
       " 'boxer',\n",
       " 'brain',\n",
       " 'bridge',\n",
       " 'britishroyalty',\n",
       " 'broadcaster',\n",
       " 'broadcastnetwork',\n",
       " 'building',\n",
       " 'canadianfootballleague',\n",
       " 'canadianfootballteam',\n",
       " 'canal',\n",
       " 'cardinal',\n",
       " 'careerstation',\n",
       " 'cartoon',\n",
       " 'case',\n",
       " 'castle',\n",
       " 'cave',\n",
       " 'celestialbody',\n",
       " 'chancellor',\n",
       " 'chef',\n",
       " 'chemicalcompound',\n",
       " 'chemicalsubstance',\n",
       " 'chessplayer',\n",
       " 'christianbishop',\n",
       " 'city',\n",
       " 'cleric',\n",
       " 'clericaladministrativeregion',\n",
       " 'clubmoss',\n",
       " 'college',\n",
       " 'collegecoach',\n",
       " 'collegeoruniversity',\n",
       " 'colour',\n",
       " 'comedian',\n",
       " 'comedygroup',\n",
       " 'comics',\n",
       " 'comicscharacter',\n",
       " 'comicscreator',\n",
       " 'company',\n",
       " 'congressman',\n",
       " 'conifer',\n",
       " 'continent',\n",
       " 'convention',\n",
       " 'country',\n",
       " 'creativework',\n",
       " 'cricketer',\n",
       " 'cricketleague',\n",
       " 'criminal',\n",
       " 'crustacean',\n",
       " 'cultivatedvariety',\n",
       " 'curler',\n",
       " 'currency',\n",
       " 'cycad',\n",
       " 'cyclingteam',\n",
       " 'cyclist',\n",
       " 'dartsplayer',\n",
       " 'database',\n",
       " 'device',\n",
       " 'diocese',\n",
       " 'disease',\n",
       " 'drug',\n",
       " 'economist',\n",
       " 'educationalinstitution',\n",
       " 'educationalorganization',\n",
       " 'election',\n",
       " 'embryology',\n",
       " 'engineer',\n",
       " 'enzyme',\n",
       " 'ethnicgroup',\n",
       " 'eukaryote',\n",
       " 'eurovisionsongcontestentry',\n",
       " 'event',\n",
       " 'fashiondesigner',\n",
       " 'fern',\n",
       " 'festival',\n",
       " 'fictionalcharacter',\n",
       " 'fieldhockeyleague',\n",
       " 'figureskater',\n",
       " 'film',\n",
       " 'filmfestival',\n",
       " 'fish',\n",
       " 'floweringplant',\n",
       " 'food',\n",
       " 'footballleagueseason',\n",
       " 'footballmatch',\n",
       " 'formulaoneracer',\n",
       " 'fungus',\n",
       " 'gaelicgamesplayer',\n",
       " 'galaxy',\n",
       " 'game',\n",
       " 'gene',\n",
       " 'genelocation',\n",
       " 'genre',\n",
       " 'ginkgo',\n",
       " 'givenname',\n",
       " 'gnetophytes',\n",
       " 'golfleague',\n",
       " 'golfplayer',\n",
       " 'governmentagency',\n",
       " 'governmentorganization',\n",
       " 'governor',\n",
       " 'grandprix',\n",
       " 'grape',\n",
       " 'greenalga',\n",
       " 'gridironfootballplayer',\n",
       " 'gymnast',\n",
       " 'handballleague',\n",
       " 'handballplayer',\n",
       " 'historicbuilding',\n",
       " 'historicplace',\n",
       " 'hockeyteam',\n",
       " 'holiday',\n",
       " 'hollywoodcartoon',\n",
       " 'horsetrainer',\n",
       " 'hospital',\n",
       " 'hotel',\n",
       " 'humangene',\n",
       " 'humangenelocation',\n",
       " 'icehockeyleague',\n",
       " 'icehockeyplayer',\n",
       " 'informationappliance',\n",
       " 'infrastructure',\n",
       " 'inlinehockeyleague',\n",
       " 'insect',\n",
       " 'island',\n",
       " 'jockey',\n",
       " 'journalist',\n",
       " 'judge',\n",
       " 'lacrosseleague',\n",
       " 'lacrosseplayer',\n",
       " 'lake',\n",
       " 'lakebodyofwater',\n",
       " 'landmarksorhistoricalbuildings',\n",
       " 'language',\n",
       " 'launchpad',\n",
       " 'lawfirm',\n",
       " 'legalcase',\n",
       " 'legislature',\n",
       " 'library',\n",
       " 'ligament',\n",
       " 'lighthouse',\n",
       " 'locomotive',\n",
       " 'lunarcrater',\n",
       " 'lymph',\n",
       " 'magazine',\n",
       " 'mammal',\n",
       " 'manga',\n",
       " 'martialartist',\n",
       " 'mayor',\n",
       " 'meanoftransportation',\n",
       " 'medician',\n",
       " 'memberofparliament',\n",
       " 'militaryconflict',\n",
       " 'militaryperson',\n",
       " 'militarystructure',\n",
       " 'militaryunit',\n",
       " 'mineral',\n",
       " 'mixedmartialartsevent',\n",
       " 'mixedmartialartsleague',\n",
       " 'model',\n",
       " 'mollusca',\n",
       " 'monarch',\n",
       " 'monument',\n",
       " 'moss',\n",
       " 'motorcycleracingleague',\n",
       " 'motorcyclerider',\n",
       " 'motorsportseason',\n",
       " 'mountain',\n",
       " 'mountainrange',\n",
       " 'mousegene',\n",
       " 'mousegenelocation',\n",
       " 'movie',\n",
       " 'murderer',\n",
       " 'muscle',\n",
       " 'museum',\n",
       " 'musical',\n",
       " 'musicalartist',\n",
       " 'musicalbum',\n",
       " 'musicalwork',\n",
       " 'musicfestival',\n",
       " 'musicgenre',\n",
       " 'musicgroup',\n",
       " 'musicrecording',\n",
       " 'name',\n",
       " 'nascardriver',\n",
       " 'nationalcollegiateathleticassociationathlete',\n",
       " 'nationalfootballleagueseason',\n",
       " 'naturalplace',\n",
       " 'ncaateamseason',\n",
       " 'nerve',\n",
       " 'netballplayer',\n",
       " 'newspaper',\n",
       " 'noble',\n",
       " 'non-profitorganisation',\n",
       " 'officeholder',\n",
       " 'olympicevent',\n",
       " 'olympicresult',\n",
       " 'olympics',\n",
       " 'organisation',\n",
       " 'organisationmember',\n",
       " 'organization',\n",
       " 'owl#thing',\n",
       " 'park',\n",
       " 'periodicalliterature',\n",
       " 'person',\n",
       " 'personfunction',\n",
       " 'philosopher',\n",
       " 'place',\n",
       " 'planet',\n",
       " 'plant',\n",
       " 'play',\n",
       " 'playboyplaymate',\n",
       " 'pokerplayer',\n",
       " 'politicalparty',\n",
       " 'politician',\n",
       " 'pololeague',\n",
       " 'populatedplace',\n",
       " 'powerstation',\n",
       " 'presenter',\n",
       " 'president',\n",
       " 'primeminister',\n",
       " 'prison',\n",
       " 'product',\n",
       " 'programminglanguage',\n",
       " 'project',\n",
       " 'protectedarea',\n",
       " 'protein',\n",
       " 'publictransitsystem',\n",
       " 'publisher',\n",
       " 'race',\n",
       " 'racecourse',\n",
       " 'racehorse',\n",
       " 'racetrack',\n",
       " 'racingdriver',\n",
       " 'radiohost',\n",
       " 'radioprogram',\n",
       " 'radiostation',\n",
       " 'railwayline',\n",
       " 'railwaystation',\n",
       " 'railwaytunnel',\n",
       " 'recordlabel',\n",
       " 'region',\n",
       " 'religious',\n",
       " 'religiousbuilding',\n",
       " 'reptile',\n",
       " 'researchproject',\n",
       " 'restaurant',\n",
       " 'river',\n",
       " 'riverbodyofwater',\n",
       " 'road',\n",
       " 'roadjunction',\n",
       " 'roadtunnel',\n",
       " 'rocket',\n",
       " 'routeoftransportation',\n",
       " 'royalty',\n",
       " 'rugbyclub',\n",
       " 'rugbyleague',\n",
       " 'rugbyplayer',\n",
       " 'saint',\n",
       " 'sales',\n",
       " 'school',\n",
       " 'scientist',\n",
       " 'senator',\n",
       " 'settlement',\n",
       " 'ship',\n",
       " 'shoppingcenter',\n",
       " 'shoppingmall',\n",
       " 'single',\n",
       " 'siteofspecialscientificinterest',\n",
       " 'skater',\n",
       " 'skiarea',\n",
       " 'skier',\n",
       " 'skiresort',\n",
       " 'skyscraper',\n",
       " 'snookerchamp',\n",
       " 'snookerplayer',\n",
       " 'snookerworldranking',\n",
       " 'soapcharacter',\n",
       " 'soccerclub',\n",
       " 'soccerclubseason',\n",
       " 'soccerleague',\n",
       " 'soccermanager',\n",
       " 'soccerplayer',\n",
       " 'softballleague',\n",
       " 'software',\n",
       " 'song',\n",
       " 'spacecraft',\n",
       " 'spacemission',\n",
       " 'spaceshuttle',\n",
       " 'spacestation',\n",
       " 'species',\n",
       " 'speedwayleague',\n",
       " 'speedwayrider',\n",
       " 'speedwayteam',\n",
       " 'sport',\n",
       " 'sportcompetitionresult',\n",
       " 'sportfacility',\n",
       " 'sportsevent',\n",
       " 'sportsleague',\n",
       " 'sportsmanager',\n",
       " 'sportsseason',\n",
       " 'sportsteam',\n",
       " 'sportsteammember',\n",
       " 'sportsteamseason',\n",
       " 'squashplayer',\n",
       " 'stadium',\n",
       " 'stadiumorarena',\n",
       " 'star',\n",
       " 'station',\n",
       " 'stream',\n",
       " 'sumowrestler',\n",
       " 'supremecourtoftheunitedstatescase',\n",
       " 'swimmer',\n",
       " 'tabletennisplayer',\n",
       " 'televisionepisode',\n",
       " 'televisionhost',\n",
       " 'televisionseason',\n",
       " 'televisionshow',\n",
       " 'televisionstation',\n",
       " 'tennisleague',\n",
       " 'tennisplayer',\n",
       " 'tennistournament',\n",
       " 'theatre',\n",
       " 'timeperiod',\n",
       " 'topicalconcept',\n",
       " 'town',\n",
       " 'tradeunion',\n",
       " 'train',\n",
       " 'tunnel',\n",
       " 'tvepisode',\n",
       " 'unitofwork',\n",
       " 'university',\n",
       " 'valley',\n",
       " 'vein',\n",
       " 'venue',\n",
       " 'videogame',\n",
       " 'videogamesleague',\n",
       " 'village',\n",
       " 'volcano',\n",
       " 'volleyballcoach',\n",
       " 'volleyballleague',\n",
       " 'volleyballplayer',\n",
       " 'waterwaytunnel',\n",
       " 'weapon',\n",
       " 'webpage',\n",
       " 'website',\n",
       " 'wineregion',\n",
       " 'womenstennisassociationtournament',\n",
       " 'work',\n",
       " 'worldheritagesite',\n",
       " 'wrestler',\n",
       " 'wrestlingevent',\n",
       " 'writer',\n",
       " 'writtenwork',\n",
       " 'year',\n",
       " 'yearinspaceflight'}"
      ]
     },
     "execution_count": 9,
     "metadata": {},
     "output_type": "execute_result"
    }
   ],
   "source": [
    "%%time\n",
    "class_type"
   ]
  },
  {
   "cell_type": "markdown",
   "metadata": {},
   "source": [
    "# Create Structural Summary Graph"
   ]
  },
  {
   "cell_type": "code",
   "execution_count": 22,
   "metadata": {},
   "outputs": [
    {
     "name": "stderr",
     "output_type": "stream",
     "text": [
      "100%|██████████| 3253755/3253755 [09:28<00:00, 5726.68it/s] "
     ]
    },
    {
     "name": "stdout",
     "output_type": "stream",
     "text": [
      "CPU times: user 9min 28s, sys: 3.11 s, total: 9min 31s\n",
      "Wall time: 9min 28s\n"
     ]
    },
    {
     "name": "stderr",
     "output_type": "stream",
     "text": [
      "\n"
     ]
    }
   ],
   "source": [
    "%%time\n",
    "structural_summary = nx.Graph()\n",
    "defined_edges = dict()\n",
    "property_edges = set()\n",
    "\n",
    "for u, edges in tqdm(full_rdfg.items()):\n",
    "    if classOf in edges:\n",
    "        for current_class in edges[classOf]:\n",
    "            for edge, vs in edges.items():\n",
    "                if edge != classOf and edge != typeOf:\n",
    "                    for v in vs:\n",
    "                        if u == v : continue\n",
    "                        if v in full_rdfg and classOf in full_rdfg[v]:\n",
    "                            for target_class in full_rdfg[v][classOf]:\n",
    "                                if target_class == current_class: continue\n",
    "                                if current_class not in defined_edges:\n",
    "                                    defined_edges[current_class] = dict()\n",
    "                                defined_edges[current_class][target_class] = edge\n",
    "                                property_edges.add(edge)\n",
    "                                structural_summary.add_edge(current_class, target_class)"
   ]
  },
  {
   "cell_type": "markdown",
   "metadata": {},
   "source": [
    "# Read Keyword to Analyze"
   ]
  },
  {
   "cell_type": "code",
   "execution_count": 16,
   "metadata": {
    "scrolled": true
   },
   "outputs": [
    {
     "data": {
      "text/plain": [
       "['unit', 'new', 'york']"
      ]
     },
     "execution_count": 16,
     "metadata": {},
     "output_type": "execute_result"
    }
   ],
   "source": [
    "file_name = 'input.in'\n",
    "f = open(file_name)\n",
    "keyword = []\n",
    "for line in f:\n",
    "    keyword.extend([' '.join(x.lower().split()) for x in line.strip().split()])\n",
    "keyword"
   ]
  },
  {
   "cell_type": "code",
   "execution_count": 25,
   "metadata": {},
   "outputs": [
    {
     "name": "stdout",
     "output_type": "stream",
     "text": [
      "3253755\n",
      "{'largestcity': {'new_york_city'}, 'minimumelevation': {'0.0'}, 'capital': {'albany,_new_york'}, 'demonym': {'new yorker'}, 'areatotal': {'141300000000.0'}, 'name': {'state of new york'}, 'country': {'united_states'}, 'maximumelevation': {'1628.85'}, '22-rdf-syntax-ns#type': {'populatedplace', 'place', 'region', 'owl#thing', 'administrativearea', 'administrativeregion'}}\n",
      "{rdflib.term.URIRef('http://dbpedia.org/resource/New_York')}\n"
     ]
    }
   ],
   "source": [
    "print(len(full_rdfg))\n",
    "print(full_rdfg[\"new_york\"])\n",
    "print(WordToLinkToLink[\"new_york\"])"
   ]
  },
  {
   "cell_type": "markdown",
   "metadata": {},
   "source": [
    "# Get Matching Construct"
   ]
  },
  {
   "cell_type": "code",
   "execution_count": 18,
   "metadata": {},
   "outputs": [],
   "source": [
    "def get_class_matching_construct(word):\n",
    "    if word in class_type:\n",
    "        return [[word]]\n",
    "    return []\n",
    "\n",
    "def get_value_matching_construct(word):\n",
    "    res = set()\n",
    "    for key in anti_full_rdfg:\n",
    "        if word in key:\n",
    "            for edge in anti_full_rdfg[key]:\n",
    "                for node in anti_full_rdfg[key][edge]:\n",
    "                    if classOf in full_rdfg[node]:\n",
    "                        for current_class in full_rdfg[node][classOf]:\n",
    "                            res.add(current_class)\n",
    "    return [[x] for x in res]\n",
    "\n",
    "def get_relationship_matching_construct(word):\n",
    "    res = []\n",
    "    if word in vertices_at_edge:\n",
    "        for u, v in vertices_at_edge[word]:\n",
    "            if classOf in full_rdfg[u]:\n",
    "                for current_class in full_rdfg[u][classOf]:\n",
    "                    if v in full_rdfg and classOf in full_rdfg[v]:\n",
    "                        for target_class in full_rdfg[v][classOf]:\n",
    "                            res.append([current_class, target_class])\n",
    "    return res\n",
    "\n",
    "def get_property_matching_construct(word):\n",
    "    res = set()\n",
    "    if word in vertices_at_edge:\n",
    "        for u, v in vertices_at_edge[word]:\n",
    "            if classOf in full_rdfg[u]:\n",
    "                for current_class in full_rdfg[u][classOf]:\n",
    "                    res.add(current_class)\n",
    "    return [[x] for x in res]"
   ]
  },
  {
   "cell_type": "code",
   "execution_count": 21,
   "metadata": {},
   "outputs": [
    {
     "name": "stderr",
     "output_type": "stream",
     "text": [
      "\r",
      "  0%|          | 0/3 [00:00<?, ?it/s]"
     ]
    },
    {
     "name": "stdout",
     "output_type": "stream",
     "text": [
      "List of matching construct of word: unit\n",
      "> Class matching construct: []\n",
      "> Property matching construct: []\n"
     ]
    },
    {
     "name": "stderr",
     "output_type": "stream",
     "text": [
      "\r",
      " 33%|███▎      | 1/3 [00:04<00:09,  4.59s/it]"
     ]
    },
    {
     "name": "stdout",
     "output_type": "stream",
     "text": [
      "> Value matching construct: [['playboyplaymate'], ['mountainrange'], ['beachvolleyballplayer'], ['anatomicalstructure'], ['aircraft'], ['railwaytunnel'], ['place'], ['website'], ['country'], ['eukaryote'], ['convention'], ['primeminister'], ['astronaut'], ['researchproject'], ['chef'], ['soccerclubseason'], ['album'], ['historicplace'], ['valley'], ['martialartist'], ['ambassador'], ['railwayline'], ['cyclingteam'], ['company'], ['manga'], ['broadcaster'], ['song'], ['golfleague'], ['species'], ['insect'], ['musicalartist'], ['sportsmanager'], ['theatre'], ['footballmatch'], ['cave'], ['cleric'], ['sportsteammember'], ['film'], ['mineral'], ['creativework'], ['radioprogram'], ['launchpad'], ['mixedmartialartsevent'], ['economist'], ['videogamesleague'], ['cultivatedvariety'], ['unitofwork'], ['prison'], ['webpage'], ['volleyballleague'], ['governor'], ['governmentorganization'], ['televisionseason'], ['officeholder'], ['powerstation'], ['tennisleague'], ['celestialbody'], ['_feature'], ['supremecourtoftheunitedstatescase'], ['programminglanguage'], ['skiarea'], ['inlinehockeyleague'], ['currency'], ['river'], ['militaryunit'], ['tradeunion'], ['politicalparty'], ['colour'], ['animal'], ['soapcharacter'], ['venue'], ['building'], ['cricketleague'], ['religious'], ['settlement'], ['automobile'], ['cyclist'], ['protein'], ['amphibian'], ['presenter'], ['restaurant'], ['year'], ['olympics'], ['hockeyteam'], ['judge'], ['topicalconcept'], ['airport'], ['royalty'], ['lakebodyofwater'], ['baseballplayer'], ['fictionalcharacter'], ['game'], ['lighthouse'], ['university'], ['formulaoneracer'], ['device'], ['amateurboxer'], ['radiostation'], ['island'], ['tunnel'], ['reptile'], ['library'], ['cartoon'], ['project'], ['ethnicgroup'], ['racecourse'], ['single'], ['play'], ['artistdiscography'], ['governmentagency'], ['roadtunnel'], ['drug'], ['adultactor'], ['medician'], ['mayor'], ['dartsplayer'], ['fish'], ['comedian'], ['comedygroup'], ['shoppingmall'], ['artwork'], ['boxer'], ['writtenwork'], ['rugbyleague'], ['memberofparliament'], ['golfplayer'], ['park'], ['organisationmember'], ['cricketer'], ['floweringplant'], ['swimmer'], ['lake'], ['tabletennisplayer'], ['baseballleague'], ['bodyofwater'], ['rugbyclub'], ['spacemission'], ['agent'], ['election'], ['train'], ['musicfestival'], ['informationappliance'], ['racehorse'], ['olympicevent'], ['religiousbuilding'], ['language'], ['broadcastnetwork'], ['volleyballplayer'], ['lacrosseleague'], ['wrestlingevent'], ['anime'], ['beverage'], ['band'], ['stadiumorarena'], ['womenstennisassociationtournament'], ['sportsteamseason'], ['rugbyplayer'], ['volcano'], ['militaryperson'], ['motorcyclerider'], ['skiresort'], ['gridironfootballplayer'], ['periodicalliterature'], ['protectedarea'], ['planet'], ['region'], ['basketballplayer'], ['musicalwork'], ['yearinspaceflight'], ['racetrack'], ['software'], ['philosopher'], ['saint'], ['autoracingleague'], ['comicscreator'], ['soccerclub'], ['landmarksorhistoricalbuildings'], ['work'], ['givenname'], ['grandprix'], ['soccerleague'], ['artist'], ['stream'], ['sport'], ['speedwayrider'], ['careerstation'], ['nationalcollegiateathleticassociationathlete'], ['militaryconflict'], ['sportfacility'], ['figureskater'], ['chessplayer'], ['naturalplace'], ['biomolecule'], ['locomotive'], ['basketballleague'], ['holiday'], ['village'], ['historicbuilding'], ['weapon'], ['filmfestival'], ['castle'], ['railwaystation'], ['christianbishop'], ['soccermanager'], ['academicjournal'], ['rocket'], ['mollusca'], ['pokerplayer'], ['educationalorganization'], ['legislature'], ['bodybuilder'], ['road'], ['diocese'], ['horsetrainer'], ['activity'], ['scientist'], ['icehockeyplayer'], ['routeoftransportation'], ['fashiondesigner'], ['radiohost'], ['hotel'], ['hollywoodcartoon'], ['magazine'], ['station'], ['mountain'], ['senator'], ['squashplayer'], ['roadjunction'], ['wrestler'], ['architecturalstructure'], ['stadium'], ['automobileengine'], ['president'], ['collegecoach'], ['musicalbum'], ['plant'], ['lawfirm'], ['motorcycleracingleague'], ['actor'], ['person'], ['skier'], ['militarystructure'], ['canadianfootballleague'], ['bridge'], ['congressman'], ['musicgenre'], ['videogame'], ['jockey'], ['comics'], ['movie'], ['tennistournament'], ['chancellor'], ['publisher'], ['collegeoruniversity'], ['musicgroup'], ['organization'], ['tvepisode'], ['americanfootballplayer'], ['case'], ['canadianfootballteam'], ['ship'], ['genre'], ['food'], ['writer'], ['murderer'], ['tennisplayer'], ['award'], ['siteofspecialscientificinterest'], ['wineregion'], ['televisionepisode'], ['publictransitsystem'], ['owl#thing'], ['noble'], ['televisionhost'], ['spaceshuttle'], ['school'], ['fungus'], ['sportsseason'], ['britishroyalty'], ['criminal'], ['timeperiod'], ['clericaladministrativeregion'], ['monument'], ['sportsleague'], ['politician'], ['speedwayleague'], ['snookerplayer'], ['handballplayer'], ['race'], ['disease'], ['sportsteam'], ['basketballteam'], ['non-profitorganisation'], ['educationalinstitution'], ['nascardriver'], ['name'], ['airline'], ['shoppingcenter'], ['chemicalsubstance'], ['product'], ['soccerplayer'], ['mammal'], ['athlete'], ['volleyballcoach'], ['beautyqueen'], ['hospital'], ['personfunction'], ['book'], ['administrativeregion'], ['televisionstation'], ['lacrosseplayer'], ['americanfootballleague'], ['database'], ['city'], ['snookerworldranking'], ['populatedplace'], ['monarch'], ['skater'], ['enzyme'], ['gymnast'], ['fern'], ['icehockeyleague'], ['festival'], ['grape'], ['musicrecording'], ['museum'], ['musical'], ['racingdriver'], ['architect'], ['infrastructure'], ['recordlabel'], ['sportsevent'], ['meanoftransportation'], ['motorsportseason'], ['organisation'], ['legalcase'], ['biologicaldatabase'], ['televisionshow'], ['town'], ['newspaper'], ['engineer'], ['administrativearea'], ['event'], ['riverbodyofwater']]\n",
      "> Relationship matching construct: []\n",
      "List of matching construct of word: new\n",
      "> Class matching construct: []\n",
      "> Property matching construct: []\n"
     ]
    },
    {
     "name": "stderr",
     "output_type": "stream",
     "text": [
      "\r",
      " 67%|██████▋   | 2/3 [00:07<00:04,  4.10s/it]"
     ]
    },
    {
     "name": "stdout",
     "output_type": "stream",
     "text": [
      "> Value matching construct: [['playboyplaymate'], ['mountainrange'], ['beachvolleyballplayer'], ['aircraft'], ['railwaytunnel'], ['place'], ['website'], ['country'], ['eukaryote'], ['convention'], ['primeminister'], ['researchproject'], ['astronaut'], ['soccerclubseason'], ['chef'], ['historicplace'], ['album'], ['bird'], ['valley'], ['martialartist'], ['ambassador'], ['railwayline'], ['cyclingteam'], ['company'], ['manga'], ['broadcaster'], ['song'], ['golfleague'], ['species'], ['insect'], ['musicalartist'], ['sportsmanager'], ['theatre'], ['footballmatch'], ['cave'], ['cleric'], ['sportsteammember'], ['film'], ['creativework'], ['radioprogram'], ['mixedmartialartsevent'], ['economist'], ['cultivatedvariety'], ['unitofwork'], ['prison'], ['webpage'], ['governor'], ['governmentorganization'], ['televisionseason'], ['nationalfootballleagueseason'], ['officeholder'], ['powerstation'], ['celestialbody'], ['_feature'], ['supremecourtoftheunitedstatescase'], ['currency'], ['skiarea'], ['programminglanguage'], ['inlinehockeyleague'], ['river'], ['militaryunit'], ['tradeunion'], ['college'], ['politicalparty'], ['colour'], ['animal'], ['canal'], ['soapcharacter'], ['venue'], ['building'], ['cricketleague'], ['religious'], ['settlement'], ['automobile'], ['mixedmartialartsleague'], ['cyclist'], ['amphibian'], ['presenter'], ['restaurant'], ['year'], ['olympics'], ['hockeyteam'], ['judge'], ['topicalconcept'], ['airport'], ['royalty'], ['lakebodyofwater'], ['baseballplayer'], ['fictionalcharacter'], ['game'], ['lighthouse'], ['university'], ['formulaoneracer'], ['device'], ['amateurboxer'], ['radiostation'], ['island'], ['tunnel'], ['reptile'], ['library'], ['cartoon'], ['project'], ['ethnicgroup'], ['racecourse'], ['single'], ['play'], ['artistdiscography'], ['governmentagency'], ['roadtunnel'], ['adultactor'], ['medician'], ['mayor'], ['dartsplayer'], ['fish'], ['comedian'], ['shoppingmall'], ['comedygroup'], ['artwork'], ['boxer'], ['writtenwork'], ['rugbyleague'], ['memberofparliament'], ['golfplayer'], ['park'], ['organisationmember'], ['cricketer'], ['floweringplant'], ['swimmer'], ['lake'], ['tabletennisplayer'], ['baseballleague'], ['bodyofwater'], ['rugbyclub'], ['spacemission'], ['agent'], ['election'], ['musicfestival'], ['train'], ['informationappliance'], ['americanfootballteam'], ['racehorse'], ['olympicevent'], ['religiousbuilding'], ['language'], ['broadcastnetwork'], ['arachnid'], ['volleyballplayer'], ['wrestlingevent'], ['gaelicgamesplayer'], ['anime'], ['beverage'], ['band'], ['stadiumorarena'], ['womenstennisassociationtournament'], ['rugbyplayer'], ['sportsteamseason'], ['volcano'], ['militaryperson'], ['motorcyclerider'], ['skiresort'], ['gridironfootballplayer'], ['periodicalliterature'], ['protectedarea'], ['planet'], ['region'], ['basketballplayer'], ['musicalwork'], ['yearinspaceflight'], ['racetrack'], ['software'], ['saint'], ['philosopher'], ['comicscreator'], ['soccerclub'], ['landmarksorhistoricalbuildings'], ['work'], ['givenname'], ['grandprix'], ['soccerleague'], ['artist'], ['stream'], ['sport'], ['speedwayrider'], ['careerstation'], ['nationalcollegiateathleticassociationathlete'], ['militaryconflict'], ['sportfacility'], ['figureskater'], ['chessplayer'], ['naturalplace'], ['worldheritagesite'], ['curler'], ['locomotive'], ['basketballleague'], ['holiday'], ['village'], ['historicbuilding'], ['filmfestival'], ['weapon'], ['castle'], ['speedwayteam'], ['railwaystation'], ['crustacean'], ['christianbishop'], ['soccermanager'], ['academicjournal'], ['mollusca'], ['pokerplayer'], ['educationalorganization'], ['legislature'], ['bodybuilder'], ['road'], ['diocese'], ['horsetrainer'], ['activity'], ['scientist'], ['icehockeyplayer'], ['routeoftransportation'], ['fashiondesigner'], ['radiohost'], ['hotel'], ['hollywoodcartoon'], ['magazine'], ['station'], ['mountain'], ['senator'], ['ncaateamseason'], ['squashplayer'], ['roadjunction'], ['wrestler'], ['architecturalstructure'], ['stadium'], ['automobileengine'], ['president'], ['collegecoach'], ['musicalbum'], ['plant'], ['lawfirm'], ['comicscharacter'], ['actor'], ['person'], ['skier'], ['militarystructure'], ['bridge'], ['congressman'], ['musicgenre'], ['videogame'], ['jockey'], ['chemicalcompound'], ['comics'], ['tennistournament'], ['movie'], ['publisher'], ['collegeoruniversity'], ['musicgroup'], ['organization'], ['tvepisode'], ['americanfootballplayer'], ['case'], ['canadianfootballteam'], ['ship'], ['genre'], ['food'], ['writer'], ['footballleagueseason'], ['murderer'], ['tennisplayer'], ['award'], ['siteofspecialscientificinterest'], ['wineregion'], ['televisionepisode'], ['publictransitsystem'], ['owl#thing'], ['noble'], ['televisionhost'], ['school'], ['fungus'], ['sportsseason'], ['britishroyalty'], ['criminal'], ['timeperiod'], ['clericaladministrativeregion'], ['monument'], ['sportsleague'], ['politician'], ['snookerplayer'], ['race'], ['disease'], ['sportsteam'], ['basketballteam'], ['non-profitorganisation'], ['educationalinstitution'], ['nascardriver'], ['snookerchamp'], ['name'], ['airline'], ['shoppingcenter'], ['chemicalsubstance'], ['product'], ['soccerplayer'], ['mammal'], ['athlete'], ['beautyqueen'], ['hospital'], ['personfunction'], ['administrativeregion'], ['lacrosseplayer'], ['televisionstation'], ['book'], ['americanfootballleague'], ['city'], ['greenalga'], ['populatedplace'], ['monarch'], ['skater'], ['gymnast'], ['fern'], ['icehockeyleague'], ['festival'], ['grape'], ['musicrecording'], ['australianrulesfootballplayer'], ['museum'], ['musical'], ['racingdriver'], ['architect'], ['infrastructure'], ['recordlabel'], ['sportsevent'], ['meanoftransportation'], ['motorsportseason'], ['organisation'], ['legalcase'], ['televisionshow'], ['netballplayer'], ['town'], ['model'], ['newspaper'], ['engineer'], ['administrativearea'], ['event'], ['riverbodyofwater']]\n",
      "> Relationship matching construct: []\n",
      "List of matching construct of word: york\n",
      "> Class matching construct: []\n",
      "> Property matching construct: []\n"
     ]
    },
    {
     "name": "stderr",
     "output_type": "stream",
     "text": [
      "\r",
      "100%|██████████| 3/3 [00:09<00:00,  3.50s/it]"
     ]
    },
    {
     "name": "stdout",
     "output_type": "stream",
     "text": [
      "> Value matching construct: [['playboyplaymate'], ['mountainrange'], ['automobile'], ['publisher'], ['mixedmartialartsleague'], ['software'], ['collegeoruniversity'], ['cyclist'], ['musicgroup'], ['philosopher'], ['organization'], ['saint'], ['presenter'], ['soccerclub'], ['comicscreator'], ['restaurant'], ['amphibian'], ['landmarksorhistoricalbuildings'], ['year'], ['railwaytunnel'], ['tvepisode'], ['place'], ['hockeyteam'], ['judge'], ['olympics'], ['website'], ['country'], ['topicalconcept'], ['animangacharacter'], ['americanfootballplayer'], ['eukaryote'], ['work'], ['givenname'], ['case'], ['convention'], ['grandprix'], ['primeminister'], ['ship'], ['genre'], ['artist'], ['airport'], ['stream'], ['food'], ['soccerleague'], ['writer'], ['royalty'], ['lakebodyofwater'], ['footballleagueseason'], ['soccerclubseason'], ['chef'], ['murderer'], ['tennisplayer'], ['speedwayrider'], ['baseballplayer'], ['careerstation'], ['nationalcollegiateathleticassociationathlete'], ['award'], ['siteofspecialscientificinterest'], ['militaryconflict'], ['sportfacility'], ['album'], ['historicplace'], ['lighthouse'], ['fictionalcharacter'], ['university'], ['figureskater'], ['chessplayer'], ['amateurboxer'], ['device'], ['radiostation'], ['naturalplace'], ['valley'], ['martialartist'], ['ambassador'], ['wineregion'], ['railwayline'], ['televisionepisode'], ['publictransitsystem'], ['owl#thing'], ['island'], ['tunnel'], ['noble'], ['curler'], ['locomotive'], ['televisionhost'], ['basketballleague'], ['library'], ['company'], ['school'], ['holiday'], ['fungus'], ['sportsseason'], ['britishroyalty'], ['broadcaster'], ['village'], ['criminal'], ['song'], ['historicbuilding'], ['filmfestival'], ['ethnicgroup'], ['timeperiod'], ['castle'], ['weapon'], ['christianbishop'], ['soccermanager'], ['racecourse'], ['monument'], ['species'], ['clericaladministrativeregion'], ['insect'], ['single'], ['academicjournal'], ['play'], ['musicalartist'], ['sportsleague'], ['sportsmanager'], ['politician'], ['pokerplayer'], ['snookerplayer'], ['governmentagency'], ['roadtunnel'], ['educationalorganization'], ['theatre'], ['adultactor'], ['medician'], ['footballmatch'], ['mayor'], ['legislature'], ['bodybuilder'], ['road'], ['diocese'], ['cave'], ['sportsteam'], ['horsetrainer'], ['dartsplayer'], ['cleric'], ['basketballteam'], ['non-profitorganisation'], ['comedian'], ['scientist'], ['sportsteammember'], ['shoppingmall'], ['artwork'], ['boxer'], ['film'], ['icehockeyplayer'], ['educationalinstitution'], ['writtenwork'], ['nascardriver'], ['rugbyleague'], ['name'], ['routeoftransportation'], ['creativework'], ['memberofparliament'], ['shoppingcenter'], ['airline'], ['golfplayer'], ['park'], ['product'], ['soccerplayer'], ['organisationmember'], ['mammal'], ['athlete'], ['cricketer'], ['fashiondesigner'], ['floweringplant'], ['swimmer'], ['beautyqueen'], ['lake'], ['tabletennisplayer'], ['hospital'], ['launchpad'], ['hotel'], ['radiohost'], ['baseballleague'], ['mixedmartialartsevent'], ['bodyofwater'], ['magazine'], ['personfunction'], ['station'], ['administrativeregion'], ['televisionstation'], ['rugbyclub'], ['lacrosseplayer'], ['economist'], ['book'], ['americanfootballleague'], ['mountain'], ['city'], ['senator'], ['roadjunction'], ['wrestler'], ['squashplayer'], ['populatedplace'], ['cultivatedvariety'], ['unitofwork'], ['architecturalstructure'], ['stadium'], ['prison'], ['agent'], ['skater'], ['musicfestival'], ['election'], ['president'], ['monarch'], ['train'], ['racehorse'], ['olympicevent'], ['automobileengine'], ['webpage'], ['religiousbuilding'], ['collegecoach'], ['musicalbum'], ['broadcastnetwork'], ['governor'], ['gymnast'], ['language'], ['plant'], ['icehockeyleague'], ['festival'], ['lawfirm'], ['musicrecording'], ['grape'], ['governmentorganization'], ['comicscharacter'], ['volleyballplayer'], ['televisionseason'], ['wrestlingevent'], ['nationalfootballleagueseason'], ['officeholder'], ['celestialbody'], ['powerstation'], ['museum'], ['musical'], ['racingdriver'], ['architect'], ['_feature'], ['waterwaytunnel'], ['supremecourtoftheunitedstatescase'], ['beverage'], ['currency'], ['band'], ['skiarea'], ['inlinehockeyleague'], ['actor'], ['stadiumorarena'], ['womenstennisassociationtournament'], ['infrastructure'], ['recordlabel'], ['person'], ['river'], ['settlement'], ['skier'], ['sportsevent'], ['rugbyplayer'], ['sportsteamseason'], ['meanoftransportation'], ['militaryperson'], ['militarystructure'], ['organisation'], ['militaryunit'], ['legalcase'], ['tradeunion'], ['bridge'], ['motorcyclerider'], ['skiresort'], ['politicalparty'], ['televisionshow'], ['administrativearea'], ['gridironfootballplayer'], ['congressman'], ['musicgenre'], ['colour'], ['town'], ['periodicalliterature'], ['protectedarea'], ['videogame'], ['jockey'], ['religious'], ['journalist'], ['canal'], ['animal'], ['planet'], ['region'], ['soapcharacter'], ['engineer'], ['movie'], ['venue'], ['building'], ['tennistournament'], ['basketballplayer'], ['musicalwork'], ['event'], ['newspaper'], ['riverbodyofwater'], ['racetrack'], ['chancellor']]\n",
      "> Relationship matching construct: []\n",
      "CPU times: user 9.66 s, sys: 4.05 ms, total: 9.67 s\n",
      "Wall time: 9.66 s\n"
     ]
    },
    {
     "name": "stderr",
     "output_type": "stream",
     "text": [
      "\n"
     ]
    }
   ],
   "source": [
    "%%time\n",
    "for word in tqdm(keyword):\n",
    "    print('List of matching construct of word: ' + word)\n",
    "    print('> Class matching construct: ' + str(get_class_matching_construct(word)))\n",
    "    print('> Property matching construct: ' + str(get_property_matching_construct(word)))\n",
    "    print('> Value matching construct: ' + str(get_value_matching_construct(word)))\n",
    "    print('> Relationship matching construct: ' + str(get_relationship_matching_construct(word)))"
   ]
  },
  {
   "cell_type": "markdown",
   "metadata": {},
   "source": [
    "# Read Profile Graph"
   ]
  },
  {
   "cell_type": "code",
   "execution_count": null,
   "metadata": {},
   "outputs": [],
   "source": [
    "# from http://codereview.stackexchange.com/questions/1526/finding-all-k-subset-partitions\n",
    "\n",
    "filename = \"graph-profile.txt\"\n",
    "profile_graph = set()\n",
    "for line in open(filename):\n",
    "    u, edge, v = [getDesc(x).lower() for x in line.strip().split()]\n",
    "    profile_graph.add((u, edge, v))\n",
    "\n",
    "# Plot Networkx instance of RDF Graph\n",
    "# pos = nx.spring_layout(G, scale=4)\n",
    "# edge_labels = nx.get_edge_attributes(G, 'r')\n",
    "# nx.draw_networkx_edge_labels(G, pos, labels=edge_labels)\n",
    "# nx.draw(G, with_labels=True)"
   ]
  },
  {
   "cell_type": "markdown",
   "metadata": {},
   "source": [
    "# Find Pattern Graph"
   ]
  },
  {
   "cell_type": "markdown",
   "metadata": {},
   "source": [
    "## Create Steiner Tree"
   ]
  },
  {
   "cell_type": "code",
   "execution_count": null,
   "metadata": {},
   "outputs": [],
   "source": [
    "%%time\n",
    "\n",
    "result_steiner_tree = []\n",
    "terminal_node = []\n",
    "for word in tqdm(keyword):\n",
    "    tmp = []\n",
    "    tmp.extend(get_class_matching_construct(word))\n",
    "    tmp.extend(get_property_matching_construct(word))\n",
    "    tmp.extend(get_value_matching_construct(word))\n",
    "    tmp.extend(get_relationship_matching_construct(word))\n",
    "    terminal_node.append(tmp)\n",
    "\n",
    "ids = [0 for _ in keyword]\n",
    "result_graphs = set()\n",
    "\n",
    "def recur(depth):\n",
    "    global ids\n",
    "    global terminal_node\n",
    "    global result_graphs\n",
    "    if depth == len(ids):\n",
    "        class_member = []\n",
    "        for i in range(len(ids)):\n",
    "            if ids[i] != -1:\n",
    "                class_member.extend(terminal_node[i][ids[i]])\n",
    "        result_graphs.add(steiner_tree(structural_summary, list(set(class_member))))\n",
    "    else:\n",
    "        awal = -1\n",
    "        if len(terminal_node[depth]) != 0:\n",
    "            awal = 0\n",
    "        for i in range(awal,len(terminal_node[depth])):\n",
    "            ids[depth] = i\n",
    "            recur(depth+1)\n",
    "\n",
    "recur(0)\n",
    "for result_graph in tqdm(result_graphs):\n",
    "    for u, v in result_graph.edges:\n",
    "        if u in defined_edges and v in defined_edges[u]:\n",
    "            print(u, ' ', defined_edges[u][v], ' ', v)\n",
    "        else:\n",
    "            print(v, ' ', defined_edges[v][u], ' ', u)\n",
    "    print('done')"
   ]
  },
  {
   "cell_type": "markdown",
   "metadata": {},
   "source": [
    "## Get Pattern Graph from Steiner Tree"
   ]
  },
  {
   "cell_type": "code",
   "execution_count": null,
   "metadata": {},
   "outputs": [],
   "source": [
    "result_pattern_graph = set()\n",
    "property_member = dict()\n",
    "\n",
    "def recur_get_entity(depth):\n",
    "    global class_members\n",
    "    global result_pattern_graph\n",
    "    global result_graph\n",
    "    if depth == len(class_members):\n",
    "#         print(translator)\n",
    "        valid = True\n",
    "        tmp_graph = []\n",
    "        for u, v in result_graph.edges:\n",
    "            if u not in defined_edges or v not in defined_edges[u]:\n",
    "                u, v = v, u\n",
    "            if translator[u] not in edge_names or translator[v] not in edge_names[translator[u]]:\n",
    "                valid = False\n",
    "            if not valid:\n",
    "                break\n",
    "            else:\n",
    "                tmp_graph.append((translator[u], edge_names[translator[u]][translator[v]], translator[v]))\n",
    "        if valid:\n",
    "            for u in class_members:\n",
    "                tmp_graph.append((translator[u], classOf, u))\n",
    "                tmp_graph.append((translator[u], property_member[u], \"$set\"))\n",
    "            result_pattern_graph.add(tuple(tmp_graph))\n",
    "    else:\n",
    "        for member in anti_full_rdfg[class_members[depth]][classOf]:\n",
    "            translator[class_members[depth]] = member\n",
    "            for edge in full_rdfg[member]:\n",
    "                if edge != classOf and edge != typeOf and edge not in property_edges:\n",
    "                    property_member[class_members[depth]] = edge\n",
    "                    recur_get_entity(depth+1)\n",
    "    \n",
    "for result_graph in result_graphs:\n",
    "    class_members = set()\n",
    "    translator = dict()\n",
    "    for u, v in result_graph.edges:\n",
    "        translator[u] = \"\"\n",
    "        translator[v] = \"\"\n",
    "        class_members.add(u)\n",
    "        class_members.add(v)\n",
    "    class_members = list(class_members)\n",
    "#     print(class_members)\n",
    "    recur_get_entity(0)\n",
    "    \n",
    "result_pattern_graph = list(result_pattern_graph)\n",
    "result_pattern_graph"
   ]
  },
  {
   "cell_type": "markdown",
   "metadata": {},
   "source": [
    "# Find Graph Profile match Graph Pattern"
   ]
  },
  {
   "cell_type": "markdown",
   "metadata": {},
   "source": [
    "## Measuring Similarity Between Pattern and Profile Graph"
   ]
  },
  {
   "cell_type": "markdown",
   "metadata": {},
   "source": [
    "### Extrinsic Similarity"
   ]
  },
  {
   "cell_type": "markdown",
   "metadata": {},
   "source": [
    "#### Concept Similarity"
   ]
  },
  {
   "cell_type": "code",
   "execution_count": null,
   "metadata": {},
   "outputs": [],
   "source": [
    "def cs(P, U):\n",
    "    class_member_p = set()\n",
    "    class_member_u = set()\n",
    "    both = 0\n",
    "    for u, edge, v in P:\n",
    "        if edge == classOf or edge == typeOf:\n",
    "            class_member_p.add(v)\n",
    "    for u, edge, v in U:\n",
    "        if edge == classOf or edge == typeOf:\n",
    "            class_member_u.add(v)\n",
    "            if v in class_member_p:\n",
    "                both += 1\n",
    "    print(class_member_p)\n",
    "    print(class_member_u)\n",
    "    return (both)/(len(class_member_p) + len(class_member_u) - both)\n",
    "\n",
    "cs(result_pattern_graph[0], result_pattern_graph[1])"
   ]
  },
  {
   "cell_type": "markdown",
   "metadata": {},
   "source": [
    "#### Relationship Similarity"
   ]
  },
  {
   "cell_type": "code",
   "execution_count": null,
   "metadata": {},
   "outputs": [],
   "source": [
    "def rs(P, U):\n",
    "    tuple_member_p = set()\n",
    "    tuple_member_u = set()\n",
    "    both = 0\n",
    "    node_class_naming_p = dict()\n",
    "    node_class_naming_u = dict()\n",
    "#     print('> ' + str(P))\n",
    "#     print('> ' + str(U))\n",
    "    for u, edge, v in P:\n",
    "        if edge == classOf or edge == typeOf:\n",
    "            node_class_naming_p[u] = v\n",
    "    for u, edge, v in U:\n",
    "        if edge == classOf or edge == typeOf:\n",
    "            node_class_naming_u[u] = v\n",
    "    \n",
    "#     print(node_class_naming_p)\n",
    "#     print(node_class_naming_u)\n",
    "    for u, edge, v in P:\n",
    "        if edge != classOf and edge != typeOf and v in node_class_naming_p and v != \"$set\" and u in node_class_naming_p:\n",
    "            tuple_member_p.add((node_class_naming_p[u], edge, node_class_naming_p[v]))\n",
    "    for u, edge, v in U:\n",
    "#         print(u, v)\n",
    "        if edge != classOf and edge != typeOf and v in node_class_naming_u and v != \"$set\" and u in node_class_naming_u:\n",
    "            tuple_member_u.add((node_class_naming_u[u], edge, node_class_naming_u[v]))\n",
    "            if (node_class_naming_u[u], edge, node_class_naming_u[v]) in tuple_member_p:\n",
    "                both += 1\n",
    "#     print(tuple_member_p)\n",
    "#     print(tuple_member_u)\n",
    "    return (both)/(len(tuple_member_p) + len(tuple_member_u) - both)\n",
    "\n",
    "rs(result_pattern_graph[0], result_pattern_graph[1])"
   ]
  },
  {
   "cell_type": "code",
   "execution_count": null,
   "metadata": {},
   "outputs": [],
   "source": [
    "def esim(P, U, alfa):\n",
    "    if alfa > 1:\n",
    "        alfa = 1\n",
    "    elif alfa < 0:\n",
    "        alfa = 0\n",
    "    return alfa * cs(P,U) + (1-alfa) * rs(P,U)\n",
    "\n",
    "esim(result_pattern_graph[0], result_pattern_graph[1], 0.5)"
   ]
  },
  {
   "cell_type": "markdown",
   "metadata": {},
   "source": [
    "### Intrinsic Similarity"
   ]
  },
  {
   "cell_type": "markdown",
   "metadata": {},
   "source": [
    "#### Entity Property Similarity"
   ]
  },
  {
   "cell_type": "code",
   "execution_count": null,
   "metadata": {},
   "outputs": [],
   "source": [
    "def inside(A, B):\n",
    "    for item in A:\n",
    "        if item != \"$x\" and item not in B:\n",
    "            found = False\n",
    "            for item_b in B:\n",
    "                if item in item_b:\n",
    "                    found = True\n",
    "                    break\n",
    "            if not found:\n",
    "                return False\n",
    "    return True\n",
    "\n",
    "def eps(P, U, f):\n",
    "    entity_of_p = dict()\n",
    "    entity_of_u = dict()\n",
    "    anti_f = dict()\n",
    "    \n",
    "    num_entity_p = 0\n",
    "    num_entity_u = 0\n",
    "    \n",
    "    for x, y in f.items():\n",
    "        anti_f[y] = x\n",
    "    \n",
    "    for u, edge, v in P:\n",
    "        if edge != classOf and edge != typeOf and edge not in property_edges:\n",
    "            if u in f:\n",
    "                entity_of_p[u] = (edge, v)\n",
    "            num_entity_p += 1\n",
    "\n",
    "    for u, edge, v in U:\n",
    "        if edge != classOf and edge != typeOf and edge not in property_edges :\n",
    "            if u in anti_f:\n",
    "                entity_of_u[u] = (edge, v)\n",
    "            num_entity_u += 1\n",
    "\n",
    "    both = 0\n",
    "    for e1, (p1, v1) in entity_of_p.items():\n",
    "        if v1 == \"$set\":\n",
    "            v1 = full_rdfg[e1][p1]\n",
    "        if entity_of_u[f[e1]][1] == \"$set\":\n",
    "            v2 = full_rdfg[f[e1]][entity_of_u[f[e1]][0]]\n",
    "        else:\n",
    "            v2 = set([entity_of_u[f[e1]][1]])\n",
    "        \n",
    "        if entity_of_u[f[e1]][0] == p1 and inside(v2, v1):\n",
    "            both += 1\n",
    "        else:\n",
    "            print(str(entity_of_u[f[e1]][0]) + \" != \" + str(p1))\n",
    "            print(str(v2) + \" != \" + str(v1))\n",
    "\n",
    "    \n",
    "    print(entity_of_p)\n",
    "    print(entity_of_u)\n",
    "    print(num_entity_p)\n",
    "    print(num_entity_u)\n",
    "    return (both + both)/(num_entity_p + num_entity_u)\n",
    "# eps(result_pattern_graph[1], result_pattern_graph[0], {\n",
    "#     'p1': 'p1',\n",
    "#     'pl1': 'pl1'\n",
    "# })"
   ]
  },
  {
   "cell_type": "markdown",
   "metadata": {},
   "source": [
    "#### Entity Connection Similarity"
   ]
  },
  {
   "cell_type": "code",
   "execution_count": null,
   "metadata": {},
   "outputs": [],
   "source": [
    "def dfs(curr, target, G, ans, visited):\n",
    "    if curr == target:\n",
    "        return True\n",
    "    else:\n",
    "        visited[curr] = True\n",
    "        if curr in G:\n",
    "            for (edge, x, Next) in G[curr]:\n",
    "                if Next not in visited or not visited[Next]:\n",
    "                    ans.append(edge)\n",
    "                    if dfs(Next, target, G, ans, visited):\n",
    "                        return True\n",
    "                    else:\n",
    "                        ans.pop()\n",
    "        return False\n",
    "            \n",
    "\n",
    "def ecs(P, U, f):\n",
    "    visited1 = dict()\n",
    "    visited2 = dict()\n",
    "    entity_of_p = dict()\n",
    "    entity_of_u = dict()\n",
    "    anti_f = dict()\n",
    "    graph_of_p = dict()\n",
    "    graph_of_u = dict()\n",
    "\n",
    "    num_entity_p = 0\n",
    "    num_entity_u = 0\n",
    "    \n",
    "    for x, y in f.items():\n",
    "        anti_f[y] = x\n",
    "    \n",
    "    for u, edge, v in P:\n",
    "        if edge in property_edges:\n",
    "            if u not in graph_of_p:\n",
    "                graph_of_p[u] = set()\n",
    "            graph_of_p[u].add((edge, u, v))\n",
    "            if v not in graph_of_p:\n",
    "                graph_of_p[v] = set()\n",
    "            graph_of_p[v].add((edge, v, u))\n",
    "\n",
    "        if edge != classOf and edge != typeOf and edge not in property_edges:\n",
    "            if u in f:\n",
    "                entity_of_p[u] = (edge, v)\n",
    "            num_entity_p += 1\n",
    "\n",
    "    for u, edge, v in U:\n",
    "        if edge in property_edges:\n",
    "            if u not in graph_of_u:\n",
    "                graph_of_u[u] = set()\n",
    "            graph_of_u[u].add((edge, u, v))\n",
    "            if v not in graph_of_u:\n",
    "                graph_of_u[v] = set()\n",
    "            graph_of_u[v].add((edge, v, u))\n",
    "\n",
    "        if edge != classOf and edge != typeOf and edge not in property_edges:\n",
    "            if u in anti_f:\n",
    "                entity_of_u[u] = (edge, v)\n",
    "            num_entity_u += 1\n",
    "            \n",
    "    matched_properties = []\n",
    "\n",
    "    for e1, (p1, v1) in entity_of_p.items():\n",
    "        if v1 == \"$set\":\n",
    "            v1 = full_rdfg[e1][p1]\n",
    "        if entity_of_u[f[e1]][1] == \"$set\":\n",
    "            v2 = full_rdfg[f[e1]][entity_of_u[f[e1]][0]]\n",
    "        else:\n",
    "            v2 = set([entity_of_u[f[e1]][1]])\n",
    "        \n",
    "        if entity_of_u[f[e1]][0] == p1 and inside(v2, v1):\n",
    "            matched_properties.append((e1, p1, v1))\n",
    "\n",
    "#     print(matched_properties)\n",
    "    both = 0\n",
    "    total = 0\n",
    "    for i in range(len(matched_properties)):\n",
    "        for j in range(i+1, len(matched_properties)):\n",
    "            ans_p = []\n",
    "            ans_u = []\n",
    "#             print(matched_properties[i][0], matched_properties[j][0])\n",
    "#             print(f[matched_properties[i][0]], f[matched_properties[j][0]])\n",
    "            if dfs(matched_properties[i][0], matched_properties[j][0], graph_of_p, ans_p, visited1) and dfs(f[matched_properties[i][0]], f[matched_properties[j][0]], graph_of_u, ans_u, visited2):\n",
    "                ans_p = set(ans_p)\n",
    "                ans_u = set(ans_u)\n",
    "                for e in ans_p:\n",
    "                    if e in ans_u:\n",
    "                        both += 2\n",
    "                total += len(ans_p)\n",
    "                total += len(ans_u)\n",
    "#             print(ans_p)\n",
    "#             print(ans_u)\n",
    "            visited1 = dict()\n",
    "            visited2 = dict()\n",
    "    \n",
    "    if both == 0:\n",
    "        return 0\n",
    "    else:\n",
    "        return both / (total)\n",
    "\n",
    "# print(ecs(result_pattern_graph[1], result_pattern_graph[0], {\n",
    "#     'p1': 'p1',\n",
    "#     'pl1': 'pl1'\n",
    "# }))"
   ]
  },
  {
   "cell_type": "code",
   "execution_count": null,
   "metadata": {},
   "outputs": [],
   "source": [
    "def iterate(depth, result, class_names, Domain, Range, P, U, f, beta):\n",
    "    if depth == len(Domain):\n",
    "        function = dict()\n",
    "        for u, v in f:\n",
    "            function[u] = v\n",
    "        value_eval = beta * eps(P, U, function) + (1 - beta) * ecs(P, U, function)\n",
    "        if value_eval > result[0]:\n",
    "            result[0] = value_eval\n",
    "            result[1] = function\n",
    "        return True\n",
    "            \n",
    "    else:\n",
    "        if class_names[depth] in Range:\n",
    "            for entity_p in Domain[class_names[depth]]:\n",
    "                for entity_u in Range[class_names[depth]]:\n",
    "                    f.append((entity_p, entity_u))\n",
    "                    if iterate(depth+1, result, class_names, Domain, Range, P, U, f, beta):\n",
    "                        f.pop()\n",
    "                    else:\n",
    "                        return False\n",
    "        else:\n",
    "            result[0] = 0\n",
    "            return False\n",
    "                    \n",
    "def isim(P, U, beta):\n",
    "    MAX = [-1, {}]\n",
    "    member_class_p = dict()\n",
    "    member_class_u = dict()\n",
    "    f = []\n",
    "    class_names = []\n",
    "    for u, edge, v in P:\n",
    "        if edge == classOf or edge == typeOf:\n",
    "            if v not in member_class_p:\n",
    "                member_class_p[v] = set()\n",
    "                class_names.append(v)\n",
    "            member_class_p[v].add(u)\n",
    "\n",
    "    for u, edge, v in U:\n",
    "        if edge == classOf or edge == typeOf:\n",
    "            if v not in member_class_u:\n",
    "                member_class_u[v] = set()\n",
    "            member_class_u[v].add(u)\n",
    "\n",
    "#     print(class_names)\n",
    "#     print(member_class_p)\n",
    "#     print(member_class_u)\n",
    "    iterate(0, MAX, class_names, member_class_p, member_class_u, P, U, f, beta)\n",
    "    return MAX\n",
    "\n",
    "# isim(result_pattern_graph[0], result_pattern_graph[2], 0.5)"
   ]
  },
  {
   "cell_type": "code",
   "execution_count": null,
   "metadata": {},
   "outputs": [],
   "source": [
    "def sim(P,U,gamma):\n",
    "    val, func = isim(P, U, 0.5)\n",
    "    return (gamma * esim(P,U,0.5) + (1-gamma) * val, func)\n",
    "\n",
    "print(result_pattern_graph[0])\n",
    "print(result_pattern_graph[1])\n",
    "sim(result_pattern_graph[0], result_pattern_graph[2], 0.7)"
   ]
  },
  {
   "cell_type": "code",
   "execution_count": null,
   "metadata": {},
   "outputs": [],
   "source": [
    "ans = [-1, {}, set()]\n",
    "gamma = 0.5\n",
    "threshold = 0.5\n",
    "\n",
    "# print(cs(result_pattern_graph[0], profile_graph))\n",
    "# print(rs(result_pattern_graph[0], profile_graph))\n",
    "# print(eps(result_pattern_graph[0], profile_graph, {'p2':'y', 'c1':'x'}))\n",
    "# print(ecs(result_pattern_graph[0], profile_graph, {'p2':'y', 'c1':'x'}))\n",
    "# print(profile_graph)\n",
    "# print(sim(result_pattern_graph[0], profile_graph, gamma))\n",
    "print('Result: ')\n",
    "for pgraph in result_pattern_graph:\n",
    "    val, func = sim(pgraph, profile_graph, gamma)\n",
    "    if val > threshold:\n",
    "        ans[0] = val\n",
    "        ans[1] = func\n",
    "        ans[2] = pgraph\n",
    "        for x, _ in func.items():\n",
    "            for item in WordToLink[x]:\n",
    "                print('<answer>\\n\\t' + str(item) + '\\n</answer>')\n"
   ]
  },
  {
   "cell_type": "raw",
   "metadata": {},
   "source": []
  }
 ],
 "metadata": {
  "kernelspec": {
   "display_name": "Python 3",
   "language": "python",
   "name": "python3"
  },
  "language_info": {
   "codemirror_mode": {
    "name": "ipython",
    "version": 3
   },
   "file_extension": ".py",
   "mimetype": "text/x-python",
   "name": "python",
   "nbconvert_exporter": "python",
   "pygments_lexer": "ipython3",
   "version": "3.6.8"
  }
 },
 "nbformat": 4,
 "nbformat_minor": 2
}
