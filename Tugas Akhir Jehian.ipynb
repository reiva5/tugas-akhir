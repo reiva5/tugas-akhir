{
 "cells": [
  {
   "cell_type": "code",
   "execution_count": 1,
   "metadata": {},
   "outputs": [],
   "source": [
    "from rdflib.graph import Graph\n",
    "import rdflib\n",
    "from rdflib.extras.external_graph_libs import rdflib_to_networkx_multidigraph\n",
    "import networkx as nx\n",
    "import matplotlib.pyplot as plt\n",
    "from os import listdir\n",
    "from os.path import isfile, join\n",
    "from tqdm import tqdm\n",
    "import psutil"
   ]
  },
  {
   "cell_type": "code",
   "execution_count": 2,
   "metadata": {},
   "outputs": [
    {
     "name": "stderr",
     "output_type": "stream",
     "text": [
      "/home/reiva5/.local/lib/python3.7/site-packages/networkx/drawing/nx_pylab.py:579: MatplotlibDeprecationWarning: \n",
      "The iterable function was deprecated in Matplotlib 3.1 and will be removed in 3.3. Use np.iterable instead.\n",
      "  if not cb.iterable(width):\n"
     ]
    },
    {
     "name": "stdout",
     "output_type": "stream",
     "text": [
      "[(1, 3), (1, 5)]\n"
     ]
    },
    {
     "data": {
      "image/png": "[encoded data removed]",
      "text/plain": [
       "<Figure size 432x288 with 1 Axes>"
      ]
     },
     "metadata": {},
     "output_type": "display_data"
    }
   ],
   "source": [
    "from networkx.algorithms.approximation.steinertree import steiner_tree\n",
    "import networkx as nx\n",
    "\n",
    "G = nx.Graph()\n",
    "G.add_nodes_from([x for x in range(7)])\n",
    "for u in range(7):\n",
    "    for v in range(u+1, 7):\n",
    "        G.add_edge(u,v)\n",
    "\n",
    "res = steiner_tree(G, [1, 3, 5])\n",
    "pos = nx.spring_layout(G, scale=0.5)\n",
    "nx.draw_networkx_labels(G, pos)\n",
    "nx.draw_networkx_edges(G, pos, edgelist=res.edges, edge_color='r', arrows=True)\n",
    "other = []\n",
    "for x in G.edges:\n",
    "    if x not in res.edges:\n",
    "        other.append(x)\n",
    "nx.draw_networkx_edges(G, pos, edgelist=other, arrows=False)\n",
    "print(res.edges)\n",
    "plt.show()"
   ]
  },
  {
   "cell_type": "markdown",
   "metadata": {},
   "source": [
    "# Useful Method"
   ]
  },
  {
   "cell_type": "code",
   "execution_count": 3,
   "metadata": {},
   "outputs": [
    {
     "name": "stdout",
     "output_type": "stream",
     "text": [
      "CPU times: user 4 µs, sys: 2 µs, total: 6 µs\n",
      "Wall time: 9.06 µs\n"
     ]
    }
   ],
   "source": [
    "%%time\n",
    "# Parse URL into readable information\n",
    "def getDesc(s):\n",
    "    curr = -1\n",
    "    while s.find(\"/\", curr+1) != -1:\n",
    "        curr = s.find(\"/\", curr+1)\n",
    "    return s[curr+1:]\n",
    "\n",
    "hash_table = dict()\n",
    "value_table = []\n",
    "last_hash_value = 0\n",
    "\n",
    "# Doing hash\n",
    "def encryptHash(s):\n",
    "    global hash_table\n",
    "    return hash_table[s]\n",
    "\n",
    "def decrpytHash(val):\n",
    "    global value_table\n",
    "    return value_table[val]\n",
    "\n",
    "def doHash(s):\n",
    "    global hash_table\n",
    "    global last_hash_value\n",
    "    if s not in hash_table:\n",
    "        hash_table[s] = last_hash_value\n",
    "        value_table.append(s)\n",
    "        last_hash_value += 1"
   ]
  },
  {
   "cell_type": "markdown",
   "metadata": {},
   "source": [
    "# Read RDF Graph"
   ]
  },
  {
   "cell_type": "markdown",
   "metadata": {},
   "source": [
    "## Read RDF Graph from nt file"
   ]
  },
  {
   "cell_type": "markdown",
   "metadata": {},
   "source": [
    "### Get data from property edge"
   ]
  },
  {
   "cell_type": "code",
   "execution_count": null,
   "metadata": {},
   "outputs": [
    {
     "name": "stderr",
     "output_type": "stream",
     "text": [
      "  0%|          | 0/34 [00:00<?, ?it/s]http://dbpedia.org/datatype/polishZ\\u0142oty does not look like a valid URI, trying to serialize this will break.\n",
      "http://dbpedia.org/datatype/polishZ\\u0142oty does not look like a valid URI, trying to serialize this will break.\n",
      "http://dbpedia.org/datatype/polishZ\\u0142oty does not look like a valid URI, trying to serialize this will break.\n",
      "http://dbpedia.org/datatype/polishZ\\u0142oty does not look like a valid URI, trying to serialize this will break.\n",
      "  3%|▎         | 1/34 [01:28<48:50, 88.81s/it]"
     ]
    },
    {
     "name": "stdout",
     "output_type": "stream",
     "text": [
      "svmem(total=12466737152, available=8643448832, percent=30.7, used=3414331392, free=8239243264, active=3180896256, inactive=589737984, buffers=36052992, cached=777109504, shared=112123904, slab=258527232)\n"
     ]
    },
    {
     "name": "stderr",
     "output_type": "stream",
     "text": [
      "\r",
      "  6%|▌         | 2/34 [03:01<47:58, 89.95s/it]"
     ]
    },
    {
     "name": "stdout",
     "output_type": "stream",
     "text": [
      "svmem(total=12466737152, available=7727443968, percent=38.0, used=4330369024, free=7322116096, active=4233953280, inactive=451395584, buffers=36446208, cached=777805824, shared=112070656, slab=258547712)\n"
     ]
    },
    {
     "name": "stderr",
     "output_type": "stream",
     "text": [
      "\r",
      "  9%|▉         | 3/34 [04:31<46:26, 89.88s/it]"
     ]
    },
    {
     "name": "stdout",
     "output_type": "stream",
     "text": [
      "svmem(total=12466737152, available=6764036096, percent=45.7, used=5293662208, free=6196322304, active=5200539648, inactive=611430400, buffers=37912576, cached=938840064, shared=112156672, slab=258379776)\n"
     ]
    },
    {
     "name": "stderr",
     "output_type": "stream",
     "text": [
      "\r",
      " 12%|█▏        | 4/34 [06:04<45:28, 90.95s/it]"
     ]
    },
    {
     "name": "stdout",
     "output_type": "stream",
     "text": [
      "svmem(total=12466737152, available=5609934848, percent=55.0, used=6428807168, free=4892688384, active=6316412928, inactive=772829184, buffers=38211584, cached=1107030016, shared=126861312, slab=258482176)\n"
     ]
    },
    {
     "name": "stderr",
     "output_type": "stream",
     "text": [
      "\r",
      " 15%|█▍        | 5/34 [06:27<34:04, 70.51s/it]"
     ]
    },
    {
     "name": "stdout",
     "output_type": "stream",
     "text": [
      "svmem(total=12466737152, available=5643309056, percent=54.7, used=6382739456, free=4903985152, active=6268723200, inactive=807436288, buffers=38252544, cached=1141760000, shared=118632448, slab=258424832)\n"
     ]
    },
    {
     "name": "stderr",
     "output_type": "stream",
     "text": [
      "http://dbpedia.org/datatype/nicaraguanC\\u00F3rdoba does not look like a valid URI, trying to serialize this will break.\n",
      " 18%|█▊        | 6/34 [08:02<36:19, 77.85s/it]"
     ]
    },
    {
     "name": "stdout",
     "output_type": "stream",
     "text": [
      "svmem(total=12466737152, available=4428189696, percent=64.5, used=7597731840, free=3555536896, active=7481901056, inactive=941355008, buffers=38518784, cached=1274949632, shared=118706176, slab=258592768)\n"
     ]
    },
    {
     "name": "stderr",
     "output_type": "stream",
     "text": [
      "http://dbpedia.org/datatype/polishZ\\u0142oty does not look like a valid URI, trying to serialize this will break.\n",
      "http://dbpedia.org/datatype/polishZ\\u0142oty does not look like a valid URI, trying to serialize this will break.\n",
      " 21%|██        | 7/34 [09:33<36:52, 81.94s/it]"
     ]
    },
    {
     "name": "stdout",
     "output_type": "stream",
     "text": [
      "svmem(total=12466737152, available=3404689408, percent=72.7, used=8615796736, free=2381762560, active=8513212416, inactive=1075367936, buffers=39182336, cached=1429995520, shared=123703296, slab=259571712)\n"
     ]
    },
    {
     "name": "stderr",
     "output_type": "stream",
     "text": [
      "\r",
      " 24%|██▎       | 8/34 [11:05<36:46, 84.88s/it]"
     ]
    },
    {
     "name": "stdout",
     "output_type": "stream",
     "text": [
      "svmem(total=12466737152, available=2463563776, percent=80.2, used=9562705920, free=1307525120, active=9457811456, inactive=1208365056, buffers=39411712, cached=1557094400, shared=117919744, slab=259567616)\n"
     ]
    },
    {
     "name": "stderr",
     "output_type": "stream",
     "text": [
      "http://dbpedia.org/datatype/polishZ\\u0142oty does not look like a valid URI, trying to serialize this will break.\n",
      "http://dbpedia.org/datatype/nicaraguanC\\u00F3rdoba does not look like a valid URI, trying to serialize this will break.\n",
      " 26%|██▋       | 9/34 [12:26<34:49, 83.59s/it]"
     ]
    },
    {
     "name": "stdout",
     "output_type": "stream",
     "text": [
      "svmem(total=12466737152, available=1559810048, percent=87.5, used=10499624960, free=413757440, active=10394374144, inactive=1197285376, buffers=39075840, cached=1514278912, shared=117350400, slab=257232896)\n"
     ]
    },
    {
     "name": "stderr",
     "output_type": "stream",
     "text": [
      "http://dbpedia.org/datatype/polishZ\\u0142oty does not look like a valid URI, trying to serialize this will break.\n",
      "http://dbpedia.org/datatype/polishZ\\u0142oty does not look like a valid URI, trying to serialize this will break.\n",
      " 29%|██▉       | 10/34 [13:59<34:38, 86.61s/it]"
     ]
    },
    {
     "name": "stdout",
     "output_type": "stream",
     "text": [
      "svmem(total=12466737152, available=756039680, percent=93.9, used=11304226816, free=380542976, active=10902544384, inactive=748519424, buffers=28950528, cached=753016832, shared=116584448, slab=256864256)\n"
     ]
    },
    {
     "name": "stderr",
     "output_type": "stream",
     "text": [
      "\r",
      " 32%|███▏      | 11/34 [15:50<36:00, 93.93s/it]"
     ]
    },
    {
     "name": "stdout",
     "output_type": "stream",
     "text": [
      "svmem(total=12466737152, available=164761600, percent=98.7, used=11956674560, free=237715456, active=10460819456, inactive=1334177792, buffers=11423744, cached=260923392, shared=98095104, slab=252518400)\n"
     ]
    },
    {
     "name": "stderr",
     "output_type": "stream",
     "text": [
      "http://dbpedia.org/datatype/polishZ\\u0142oty does not look like a valid URI, trying to serialize this will break.\n",
      "http://dbpedia.org/datatype/polishZ\\u0142oty does not look like a valid URI, trying to serialize this will break.\n",
      "http://dbpedia.org/datatype/polishZ\\u0142oty does not look like a valid URI, trying to serialize this will break.\n",
      "http://dbpedia.org/datatype/polishZ\\u0142oty does not look like a valid URI, trying to serialize this will break.\n",
      " 35%|███▌      | 12/34 [18:51<43:57, 119.90s/it]"
     ]
    },
    {
     "name": "stdout",
     "output_type": "stream",
     "text": [
      "svmem(total=12466737152, available=72093696, percent=99.4, used=12075773952, free=171347968, active=10595966976, inactive=1262755840, buffers=2473984, cached=217141248, shared=97959936, slab=260329472)\n"
     ]
    },
    {
     "name": "stderr",
     "output_type": "stream",
     "text": [
      "\r",
      " 38%|███▊      | 13/34 [20:36<40:21, 115.33s/it]"
     ]
    },
    {
     "name": "stdout",
     "output_type": "stream",
     "text": [
      "svmem(total=12466737152, available=50798592, percent=99.6, used=12102930432, free=147943424, active=10598027264, inactive=1275334656, buffers=1593344, cached=214269952, shared=90370048, slab=263405568)\n"
     ]
    },
    {
     "name": "stderr",
     "output_type": "stream",
     "text": [
      "\r",
      " 41%|████      | 14/34 [29:08<1:18:11, 234.58s/it]"
     ]
    },
    {
     "name": "stdout",
     "output_type": "stream",
     "text": [
      "svmem(total=12466737152, available=47915008, percent=99.6, used=12118310912, free=149594112, active=10618466304, inactive=1252098048, buffers=1114112, cached=197718016, shared=82325504, slab=268148736)\n"
     ]
    },
    {
     "name": "stderr",
     "output_type": "stream",
     "text": [
      "\r",
      " 44%|████▍     | 15/34 [30:57<1:02:18, 196.74s/it]"
     ]
    },
    {
     "name": "stdout",
     "output_type": "stream",
     "text": [
      "svmem(total=12466737152, available=62971904, percent=99.5, used=12093771776, free=162992128, active=10602950656, inactive=1248559104, buffers=2121728, cached=207851520, shared=90714112, slab=268394496)\n"
     ]
    },
    {
     "name": "stderr",
     "output_type": "stream",
     "text": [
      "http://dbpedia.org/datatype/polishZ\\u0142oty does not look like a valid URI, trying to serialize this will break.\n",
      " 47%|████▋     | 16/34 [46:39<2:06:04, 420.26s/it]"
     ]
    },
    {
     "name": "stdout",
     "output_type": "stream",
     "text": [
      "svmem(total=12466737152, available=58519552, percent=99.5, used=12146757632, free=159924224, active=10552320000, inactive=1307471872, buffers=1261568, cached=158793728, shared=43085824, slab=266149888)\n"
     ]
    },
    {
     "name": "stderr",
     "output_type": "stream",
     "text": [
      "http://dbpedia.org/datatype/polishZ\\u0142oty does not look like a valid URI, trying to serialize this will break.\n",
      "http://dbpedia.org/datatype/polishZ\\u0142oty does not look like a valid URI, trying to serialize this will break.\n",
      " 50%|█████     | 17/34 [48:53<1:34:44, 334.40s/it]"
     ]
    },
    {
     "name": "stdout",
     "output_type": "stream",
     "text": [
      "svmem(total=12466737152, available=68268032, percent=99.5, used=12113993728, free=156565504, active=10610466816, inactive=1246699520, buffers=2203648, cached=193974272, shared=52269056, slab=265678848)\n"
     ]
    },
    {
     "name": "stderr",
     "output_type": "stream",
     "text": [
      "http://dbpedia.org/datatype/polishZ\\u0142oty does not look like a valid URI, trying to serialize this will break.\n",
      "http://dbpedia.org/datatype/polishZ\\u0142oty does not look like a valid URI, trying to serialize this will break.\n",
      " 53%|█████▎    | 18/34 [50:32<1:10:20, 263.80s/it]"
     ]
    },
    {
     "name": "stdout",
     "output_type": "stream",
     "text": [
      "svmem(total=12466737152, available=103579648, percent=99.2, used=12044759040, free=184774656, active=10521600000, inactive=1305403392, buffers=1761280, cached=235442176, shared=79597568, slab=265121792)\n"
     ]
    },
    {
     "name": "stderr",
     "output_type": "stream",
     "text": [
      "http://dbpedia.org/datatype/nicaraguanC\\u00F3rdoba does not look like a valid URI, trying to serialize this will break.\n",
      "http://dbpedia.org/datatype/polishZ\\u0142oty does not look like a valid URI, trying to serialize this will break.\n",
      " 56%|█████▌    | 19/34 [1:10:28<2:15:54, 543.65s/it]"
     ]
    },
    {
     "name": "stdout",
     "output_type": "stream",
     "text": [
      "svmem(total=12466737152, available=53391360, percent=99.6, used=12139982848, free=160878592, active=10632593408, inactive=1235693568, buffers=1236992, cached=164638720, shared=61067264, slab=250753024)\n"
     ]
    },
    {
     "name": "stderr",
     "output_type": "stream",
     "text": [
      "\r",
      " 59%|█████▉    | 20/34 [1:12:15<1:36:17, 412.66s/it]"
     ]
    },
    {
     "name": "stdout",
     "output_type": "stream",
     "text": [
      "svmem(total=12466737152, available=88653824, percent=99.3, used=12079353856, free=162770944, active=10582413312, inactive=1276178432, buffers=1437696, cached=223174656, shared=52670464, slab=250830848)\n"
     ]
    },
    {
     "name": "stderr",
     "output_type": "stream",
     "text": [
      "http://dbpedia.org/datatype/polishZ\\u0142oty does not look like a valid URI, trying to serialize this will break.\n",
      "http://dbpedia.org/datatype/nicaraguanC\\u00F3rdoba does not look like a valid URI, trying to serialize this will break.\n"
     ]
    }
   ],
   "source": [
    "%%time\n",
    "mypath = \"/home/reiva5/Desktop/TA/mapping_properties_chunk\"\n",
    "onlyfiles = [f for f in listdir(mypath) if isfile(join(mypath, f))]\n",
    "WordToLink = dict() # To compress link into simple string\n",
    "simple_rdfg = dict() #\n",
    "full_rdfg = dict()\n",
    "edge_names = dict()\n",
    "anti_full_rdfg = dict()\n",
    "vertices_at_edge = dict()\n",
    "class_type = set()\n",
    "\n",
    "classOf = \"22-rdf-syntax-ns#type\"\n",
    "typeOf = \"type\"\n",
    "subClassOf = \"rdf-schema#subClassOf\"\n",
    "\n",
    "for filename in tqdm(onlyfiles):\n",
    "    filename = \"mapping_properties_chunk/\" + filename\n",
    "\n",
    "    g = Graph()\n",
    "    result = g.parse(filename, format=\"nt\")\n",
    "    G = rdflib_to_networkx_multidigraph(result)\n",
    "\n",
    "    for stmt in result:\n",
    "        u, edge, v = [getDesc(x).lower() for x in stmt]\n",
    "        if u not in WordToLink:\n",
    "            WordToLink[u] = set()\n",
    "        WordToLink[u].add(stmt[0])\n",
    "        \n",
    "        if v not in WordToLink:\n",
    "            WordToLink[v] = set()\n",
    "        WordToLink[v].add(stmt[1])\n",
    "\n",
    "        doHash(u)\n",
    "        doHash(edge)\n",
    "        doHash(v)\n",
    "        \n",
    "        u = encryptHash(u)\n",
    "        edge = encryptHash(edge)\n",
    "        v = encryptHash(v)\n",
    "        \n",
    "        if u not in simple_rdfg:\n",
    "            simple_rdfg[u] = set()\n",
    "        simple_rdfg[u].add(v)\n",
    "\n",
    "        if u not in edge_names:\n",
    "            full_rdfg[u] = dict()\n",
    "            edge_names[u] = dict()\n",
    "        \n",
    "        if v not in anti_full_rdfg:\n",
    "            anti_full_rdfg[v] = dict()\n",
    "        edge_names[u][v] = edge\n",
    "        \n",
    "        if edge not in anti_full_rdfg[v]:\n",
    "            anti_full_rdfg[v][edge] = set()\n",
    "        anti_full_rdfg[v][edge].add(u)\n",
    "        \n",
    "        if edge not in full_rdfg[u]:\n",
    "            full_rdfg[u][edge] = set()\n",
    "        full_rdfg[u][edge].add(v)\n",
    "\n",
    "        if edge not in vertices_at_edge:\n",
    "            vertices_at_edge[edge] = []\n",
    "        vertices_at_edge[edge].append([u,v])\n",
    "\n",
    "    print(psutil.virtual_memory())\n",
    "# Plot Networkx instance of RDF Graph\n",
    "# pos = nx.spring_layout(G, scale=4)\n",
    "# edge_labels = nx.get_edge_attributes(G, 'r')\n",
    "# nx.draw_networkx_edge_labels(G, pos, labels=edge_labels)\n",
    "# nx.draw(G, with_labels=True)"
   ]
  },
  {
   "cell_type": "markdown",
   "metadata": {},
   "source": [
    "### Get data from type edge"
   ]
  },
  {
   "cell_type": "code",
   "execution_count": null,
   "metadata": {},
   "outputs": [],
   "source": [
    "%%time\n",
    "mypath = \"/home/reiva5/Desktop/TA/mapping_type_chunk\"\n",
    "onlyfiles = [f for f in listdir(mypath) if isfile(join(mypath, f))]\n",
    "for filename in tqdm(onlyfiles):\n",
    "    filename = \"mapping_type_chunk/\" + filename\n",
    "    g = Graph()\n",
    "    result = g.parse(filename, format=\"nt\")\n",
    "    G = rdflib_to_networkx_multidigraph(result)\n",
    "\n",
    "    for stmt in result:\n",
    "        u, edge, v = [getDesc(x).lower() for x in stmt]\n",
    "        if u not in simple_rdfg:\n",
    "            simple_rdfg[u] = set()\n",
    "        simple_rdfg[u].add(v)\n",
    "        if u not in edge_names:\n",
    "            full_rdfg[u] = dict()\n",
    "            edge_names[u] = dict()\n",
    "        if v not in anti_full_rdfg:\n",
    "            anti_full_rdfg[v] = dict()\n",
    "        edge_names[u][v] = edge\n",
    "        if edge not in anti_full_rdfg[v]:\n",
    "            anti_full_rdfg[v][edge] = set()\n",
    "        anti_full_rdfg[v][edge].add(u)\n",
    "        if edge not in full_rdfg[u]:\n",
    "            full_rdfg[u][edge] = set()\n",
    "        full_rdfg[u][edge].add(v)\n",
    "        if edge not in vertices_at_edge:\n",
    "            vertices_at_edge[edge] = []\n",
    "        vertices_at_edge[edge].append([u,v])\n",
    "        if edge == classOf:\n",
    "            class_type.add(v)\n",
    "        \n",
    "        for item in stmt:\n",
    "            if item[:4] == \"http\":\n",
    "                tmp = getDesc(item)\n",
    "                tmp = tmp.lower()\n",
    "                if tmp not in WordToLink:\n",
    "                    WordToLink[tmp] = set()\n",
    "                WordToLink[tmp].add(item)\n"
   ]
  },
  {
   "cell_type": "markdown",
   "metadata": {},
   "source": [
    "## Get the RDF Graph"
   ]
  },
  {
   "cell_type": "code",
   "execution_count": null,
   "metadata": {},
   "outputs": [],
   "source": [
    "%%time\n",
    "class_type"
   ]
  },
  {
   "cell_type": "markdown",
   "metadata": {},
   "source": [
    "# Read Keyword to Analyze"
   ]
  },
  {
   "cell_type": "code",
   "execution_count": null,
   "metadata": {
    "scrolled": true
   },
   "outputs": [],
   "source": [
    "file_name = 'input.in'\n",
    "f = open(file_name)\n",
    "keyword = []\n",
    "for line in f:\n",
    "    keyword.extend([' '.join(x.lower().split()) for x in line.strip().split()])\n",
    "keyword"
   ]
  },
  {
   "cell_type": "code",
   "execution_count": null,
   "metadata": {},
   "outputs": [],
   "source": [
    "print(len(full_rdfg))\n",
    "print(full_rdfg[\"joko_widodo\"])"
   ]
  },
  {
   "cell_type": "markdown",
   "metadata": {},
   "source": [
    "# Get Matching Construct"
   ]
  },
  {
   "cell_type": "code",
   "execution_count": null,
   "metadata": {},
   "outputs": [],
   "source": [
    "def get_class_matching_construct(word):\n",
    "    if word in class_type:\n",
    "        return [[word]]\n",
    "    return []\n",
    "\n",
    "def get_value_matching_construct(word):\n",
    "    res = set()\n",
    "    for key in anti_full_rdfg:\n",
    "        if word in key:\n",
    "            for edge in anti_full_rdfg[key]:\n",
    "                for node in anti_full_rdfg[key][edge]:\n",
    "                    if classOf in full_rdfg[node]:\n",
    "                        for current_class in full_rdfg[node][classOf]:\n",
    "                            res.add(current_class)\n",
    "    return [[x] for x in res]\n",
    "\n",
    "def get_relationship_matching_construct(word):\n",
    "    res = []\n",
    "    if word in vertices_at_edge:\n",
    "        for u, v in vertices_at_edge[word]:\n",
    "            if classOf in full_rdfg[u]:\n",
    "                for current_class in full_rdfg[u][classOf]:\n",
    "                    if v in full_rdfg and classOf in full_rdfg[v]:\n",
    "                        for target_class in full_rdfg[v][classOf]:\n",
    "                            res.append([current_class, target_class])\n",
    "    return res\n",
    "\n",
    "def get_property_matching_construct(word):\n",
    "    res = set()\n",
    "    if word in vertices_at_edge:\n",
    "        for u, v in vertices_at_edge[word]:\n",
    "            if classOf in full_rdfg[u]:\n",
    "                for current_class in full_rdfg[u][classOf]:\n",
    "                    res.add(current_class)\n",
    "    return [[x] for x in res]"
   ]
  },
  {
   "cell_type": "markdown",
   "metadata": {},
   "source": [
    "# Create Structural Summary Graph"
   ]
  },
  {
   "cell_type": "code",
   "execution_count": null,
   "metadata": {},
   "outputs": [],
   "source": [
    "%%time\n",
    "structural_summary = nx.Graph()\n",
    "defined_edges = dict()\n",
    "property_edges = set()\n",
    "\n",
    "for u, edges in tqdm(full_rdfg.items()):\n",
    "    if classOf in edges:\n",
    "        for current_class in edges[classOf]:\n",
    "            for edge, vs in edges.items():\n",
    "                if edge != classOf and edge != typeOf:\n",
    "                    for v in vs:\n",
    "                        if u == v : continue\n",
    "                        if v in full_rdfg and classOf in full_rdfg[v]:\n",
    "                            for target_class in full_rdfg[v][classOf]:\n",
    "                                if target_class == current_class: continue\n",
    "                                if current_class not in defined_edges:\n",
    "                                    defined_edges[current_class] = dict()\n",
    "                                defined_edges[current_class][target_class] = edge\n",
    "                                property_edges.add(edge)\n",
    "                                structural_summary.add_edge(current_class, target_class)"
   ]
  },
  {
   "cell_type": "code",
   "execution_count": null,
   "metadata": {},
   "outputs": [],
   "source": [
    "for word in keyword:\n",
    "    print('List of matching construct of word: ' + word)\n",
    "    print('> Class matching construct: ' + str(get_class_matching_construct(word)))\n",
    "    print('> Property matching construct: ' + str(get_property_matching_construct(word)))\n",
    "    print('> Value matching construct: ' + str(get_value_matching_construct(word)))\n",
    "    print('> Relationship matching construct: ' + str(get_relationship_matching_construct(word)))"
   ]
  },
  {
   "cell_type": "markdown",
   "metadata": {},
   "source": [
    "# Find Pattern Graph"
   ]
  },
  {
   "cell_type": "markdown",
   "metadata": {},
   "source": [
    "## Create Steiner Tree"
   ]
  },
  {
   "cell_type": "code",
   "execution_count": null,
   "metadata": {},
   "outputs": [],
   "source": [
    "%%time\n",
    "\n",
    "result_steiner_tree = []\n",
    "terminal_node = []\n",
    "for word in tqdm(keyword):\n",
    "    tmp = []\n",
    "    tmp.extend(get_class_matching_construct(word))\n",
    "    tmp.extend(get_property_matching_construct(word))\n",
    "    tmp.extend(get_value_matching_construct(word))\n",
    "    tmp.extend(get_relationship_matching_construct(word))\n",
    "    terminal_node.append(tmp)\n",
    "\n",
    "ids = [0 for _ in keyword]\n",
    "result_graphs = set()\n",
    "\n",
    "def recur(depth):\n",
    "    global ids\n",
    "    global terminal_node\n",
    "    global result_graphs\n",
    "    if depth == len(ids):\n",
    "        class_member = []\n",
    "        for i in range(len(ids)):\n",
    "            if ids[i] != -1:\n",
    "                class_member.extend(terminal_node[i][ids[i]])\n",
    "        result_graphs.add(steiner_tree(structural_summary, list(set(class_member))))\n",
    "    else:\n",
    "        awal = -1\n",
    "        if len(terminal_node[depth]) != 0:\n",
    "            awal = 0\n",
    "        for i in range(awal,len(terminal_node[depth])):\n",
    "            ids[depth] = i\n",
    "            recur(depth+1)\n",
    "\n",
    "recur(0)\n",
    "for result_graph in tqdm(result_graphs):\n",
    "    for u, v in result_graph.edges:\n",
    "        if u in defined_edges and v in defined_edges[u]:\n",
    "            print(u, ' ', defined_edges[u][v], ' ', v)\n",
    "        else:\n",
    "            print(v, ' ', defined_edges[v][u], ' ', u)\n",
    "    print('done')"
   ]
  },
  {
   "cell_type": "markdown",
   "metadata": {},
   "source": [
    "## Get Pattern Graph from Steiner Tree"
   ]
  },
  {
   "cell_type": "code",
   "execution_count": null,
   "metadata": {},
   "outputs": [],
   "source": [
    "result_pattern_graph = set()\n",
    "property_member = dict()\n",
    "\n",
    "def recur_get_entity(depth):\n",
    "    global class_members\n",
    "    global result_pattern_graph\n",
    "    global result_graph\n",
    "    if depth == len(class_members):\n",
    "#         print(translator)\n",
    "        valid = True\n",
    "        tmp_graph = []\n",
    "        for u, v in result_graph.edges:\n",
    "            if u not in defined_edges or v not in defined_edges[u]:\n",
    "                u, v = v, u\n",
    "            if translator[u] not in edge_names or translator[v] not in edge_names[translator[u]]:\n",
    "                valid = False\n",
    "            if not valid:\n",
    "                break\n",
    "            else:\n",
    "                tmp_graph.append((translator[u], edge_names[translator[u]][translator[v]], translator[v]))\n",
    "        if valid:\n",
    "            for u in class_members:\n",
    "                tmp_graph.append((translator[u], classOf, u))\n",
    "                tmp_graph.append((translator[u], property_member[u], \"$set\"))\n",
    "            result_pattern_graph.add(tuple(tmp_graph))\n",
    "    else:\n",
    "        for member in anti_full_rdfg[class_members[depth]][classOf]:\n",
    "            translator[class_members[depth]] = member\n",
    "            for edge in full_rdfg[member]:\n",
    "                if edge != classOf and edge != typeOf and edge not in property_edges:\n",
    "                    property_member[class_members[depth]] = edge\n",
    "                    recur_get_entity(depth+1)\n",
    "    \n",
    "for result_graph in result_graphs:\n",
    "    class_members = set()\n",
    "    translator = dict()\n",
    "    for u, v in result_graph.edges:\n",
    "        translator[u] = \"\"\n",
    "        translator[v] = \"\"\n",
    "        class_members.add(u)\n",
    "        class_members.add(v)\n",
    "    class_members = list(class_members)\n",
    "#     print(class_members)\n",
    "    recur_get_entity(0)\n",
    "    \n",
    "result_pattern_graph = list(result_pattern_graph)\n",
    "result_pattern_graph"
   ]
  },
  {
   "cell_type": "markdown",
   "metadata": {},
   "source": [
    "# Read Profile Graph"
   ]
  },
  {
   "cell_type": "code",
   "execution_count": null,
   "metadata": {},
   "outputs": [],
   "source": [
    "# from http://codereview.stackexchange.com/questions/1526/finding-all-k-subset-partitions\n",
    "\n",
    "filename = \"graph-profile.txt\"\n",
    "profile_graph = set()\n",
    "for line in open(filename):\n",
    "    u, edge, v = [getDesc(x).lower() for x in line.strip().split()]\n",
    "    profile_graph.add((u, edge, v))\n",
    "\n",
    "# Plot Networkx instance of RDF Graph\n",
    "# pos = nx.spring_layout(G, scale=4)\n",
    "# edge_labels = nx.get_edge_attributes(G, 'r')\n",
    "# nx.draw_networkx_edge_labels(G, pos, labels=edge_labels)\n",
    "# nx.draw(G, with_labels=True)"
   ]
  },
  {
   "cell_type": "markdown",
   "metadata": {},
   "source": [
    "# Find Graph Profile match Graph Pattern"
   ]
  },
  {
   "cell_type": "markdown",
   "metadata": {},
   "source": [
    "## Measuring Similarity Between Pattern and Profile Graph"
   ]
  },
  {
   "cell_type": "markdown",
   "metadata": {},
   "source": [
    "### Extrinsic Similarity"
   ]
  },
  {
   "cell_type": "markdown",
   "metadata": {},
   "source": [
    "#### Concept Similarity"
   ]
  },
  {
   "cell_type": "code",
   "execution_count": null,
   "metadata": {},
   "outputs": [],
   "source": [
    "def cs(P, U):\n",
    "    class_member_p = set()\n",
    "    class_member_u = set()\n",
    "    both = 0\n",
    "    for u, edge, v in P:\n",
    "        if edge == classOf or edge == typeOf:\n",
    "            class_member_p.add(v)\n",
    "    for u, edge, v in U:\n",
    "        if edge == classOf or edge == typeOf:\n",
    "            class_member_u.add(v)\n",
    "            if v in class_member_p:\n",
    "                both += 1\n",
    "    print(class_member_p)\n",
    "    print(class_member_u)\n",
    "    return (both)/(len(class_member_p) + len(class_member_u) - both)\n",
    "\n",
    "cs(result_pattern_graph[0], result_pattern_graph[1])"
   ]
  },
  {
   "cell_type": "markdown",
   "metadata": {},
   "source": [
    "#### Relationship Similarity"
   ]
  },
  {
   "cell_type": "code",
   "execution_count": null,
   "metadata": {},
   "outputs": [],
   "source": [
    "def rs(P, U):\n",
    "    tuple_member_p = set()\n",
    "    tuple_member_u = set()\n",
    "    both = 0\n",
    "    node_class_naming_p = dict()\n",
    "    node_class_naming_u = dict()\n",
    "#     print('> ' + str(P))\n",
    "#     print('> ' + str(U))\n",
    "    for u, edge, v in P:\n",
    "        if edge == classOf or edge == typeOf:\n",
    "            node_class_naming_p[u] = v\n",
    "    for u, edge, v in U:\n",
    "        if edge == classOf or edge == typeOf:\n",
    "            node_class_naming_u[u] = v\n",
    "    \n",
    "#     print(node_class_naming_p)\n",
    "#     print(node_class_naming_u)\n",
    "    for u, edge, v in P:\n",
    "        if edge != classOf and edge != typeOf and v in node_class_naming_p and v != \"$set\" and u in node_class_naming_p:\n",
    "            tuple_member_p.add((node_class_naming_p[u], edge, node_class_naming_p[v]))\n",
    "    for u, edge, v in U:\n",
    "#         print(u, v)\n",
    "        if edge != classOf and edge != typeOf and v in node_class_naming_u and v != \"$set\" and u in node_class_naming_u:\n",
    "            tuple_member_u.add((node_class_naming_u[u], edge, node_class_naming_u[v]))\n",
    "            if (node_class_naming_u[u], edge, node_class_naming_u[v]) in tuple_member_p:\n",
    "                both += 1\n",
    "#     print(tuple_member_p)\n",
    "#     print(tuple_member_u)\n",
    "    return (both)/(len(tuple_member_p) + len(tuple_member_u) - both)\n",
    "\n",
    "rs(result_pattern_graph[0], result_pattern_graph[1])"
   ]
  },
  {
   "cell_type": "code",
   "execution_count": null,
   "metadata": {},
   "outputs": [],
   "source": [
    "def esim(P, U, alfa):\n",
    "    if alfa > 1:\n",
    "        alfa = 1\n",
    "    elif alfa < 0:\n",
    "        alfa = 0\n",
    "    return alfa * cs(P,U) + (1-alfa) * rs(P,U)\n",
    "\n",
    "esim(result_pattern_graph[0], result_pattern_graph[1], 0.5)"
   ]
  },
  {
   "cell_type": "markdown",
   "metadata": {},
   "source": [
    "### Intrinsic Similarity"
   ]
  },
  {
   "cell_type": "markdown",
   "metadata": {},
   "source": [
    "#### Entity Property Similarity"
   ]
  },
  {
   "cell_type": "code",
   "execution_count": null,
   "metadata": {},
   "outputs": [],
   "source": [
    "def inside(A, B):\n",
    "    for item in A:\n",
    "        if item != \"$x\" and item not in B:\n",
    "            found = False\n",
    "            for item_b in B:\n",
    "                if item in item_b:\n",
    "                    found = True\n",
    "                    break\n",
    "            if not found:\n",
    "                return False\n",
    "    return True\n",
    "\n",
    "def eps(P, U, f):\n",
    "    entity_of_p = dict()\n",
    "    entity_of_u = dict()\n",
    "    anti_f = dict()\n",
    "    \n",
    "    num_entity_p = 0\n",
    "    num_entity_u = 0\n",
    "    \n",
    "    for x, y in f.items():\n",
    "        anti_f[y] = x\n",
    "    \n",
    "    for u, edge, v in P:\n",
    "        if edge != classOf and edge != typeOf and edge not in property_edges:\n",
    "            if u in f:\n",
    "                entity_of_p[u] = (edge, v)\n",
    "            num_entity_p += 1\n",
    "\n",
    "    for u, edge, v in U:\n",
    "        if edge != classOf and edge != typeOf and edge not in property_edges :\n",
    "            if u in anti_f:\n",
    "                entity_of_u[u] = (edge, v)\n",
    "            num_entity_u += 1\n",
    "\n",
    "    both = 0\n",
    "    for e1, (p1, v1) in entity_of_p.items():\n",
    "        if v1 == \"$set\":\n",
    "            v1 = full_rdfg[e1][p1]\n",
    "        if entity_of_u[f[e1]][1] == \"$set\":\n",
    "            v2 = full_rdfg[f[e1]][entity_of_u[f[e1]][0]]\n",
    "        else:\n",
    "            v2 = set([entity_of_u[f[e1]][1]])\n",
    "        \n",
    "        if entity_of_u[f[e1]][0] == p1 and inside(v2, v1):\n",
    "            both += 1\n",
    "        else:\n",
    "            print(str(entity_of_u[f[e1]][0]) + \" != \" + str(p1))\n",
    "            print(str(v2) + \" != \" + str(v1))\n",
    "\n",
    "    \n",
    "    print(entity_of_p)\n",
    "    print(entity_of_u)\n",
    "    print(num_entity_p)\n",
    "    print(num_entity_u)\n",
    "    return (both + both)/(num_entity_p + num_entity_u)\n",
    "# eps(result_pattern_graph[1], result_pattern_graph[0], {\n",
    "#     'p1': 'p1',\n",
    "#     'pl1': 'pl1'\n",
    "# })"
   ]
  },
  {
   "cell_type": "markdown",
   "metadata": {},
   "source": [
    "#### Entity Connection Similarity"
   ]
  },
  {
   "cell_type": "code",
   "execution_count": null,
   "metadata": {},
   "outputs": [],
   "source": [
    "def dfs(curr, target, G, ans, visited):\n",
    "    if curr == target:\n",
    "        return True\n",
    "    else:\n",
    "        visited[curr] = True\n",
    "        if curr in G:\n",
    "            for (edge, x, Next) in G[curr]:\n",
    "                if Next not in visited or not visited[Next]:\n",
    "                    ans.append(edge)\n",
    "                    if dfs(Next, target, G, ans, visited):\n",
    "                        return True\n",
    "                    else:\n",
    "                        ans.pop()\n",
    "        return False\n",
    "            \n",
    "\n",
    "def ecs(P, U, f):\n",
    "    visited1 = dict()\n",
    "    visited2 = dict()\n",
    "    entity_of_p = dict()\n",
    "    entity_of_u = dict()\n",
    "    anti_f = dict()\n",
    "    graph_of_p = dict()\n",
    "    graph_of_u = dict()\n",
    "\n",
    "    num_entity_p = 0\n",
    "    num_entity_u = 0\n",
    "    \n",
    "    for x, y in f.items():\n",
    "        anti_f[y] = x\n",
    "    \n",
    "    for u, edge, v in P:\n",
    "        if edge in property_edges:\n",
    "            if u not in graph_of_p:\n",
    "                graph_of_p[u] = set()\n",
    "            graph_of_p[u].add((edge, u, v))\n",
    "            if v not in graph_of_p:\n",
    "                graph_of_p[v] = set()\n",
    "            graph_of_p[v].add((edge, v, u))\n",
    "\n",
    "        if edge != classOf and edge != typeOf and edge not in property_edges:\n",
    "            if u in f:\n",
    "                entity_of_p[u] = (edge, v)\n",
    "            num_entity_p += 1\n",
    "\n",
    "    for u, edge, v in U:\n",
    "        if edge in property_edges:\n",
    "            if u not in graph_of_u:\n",
    "                graph_of_u[u] = set()\n",
    "            graph_of_u[u].add((edge, u, v))\n",
    "            if v not in graph_of_u:\n",
    "                graph_of_u[v] = set()\n",
    "            graph_of_u[v].add((edge, v, u))\n",
    "\n",
    "        if edge != classOf and edge != typeOf and edge not in property_edges:\n",
    "            if u in anti_f:\n",
    "                entity_of_u[u] = (edge, v)\n",
    "            num_entity_u += 1\n",
    "            \n",
    "    matched_properties = []\n",
    "\n",
    "    for e1, (p1, v1) in entity_of_p.items():\n",
    "        if v1 == \"$set\":\n",
    "            v1 = full_rdfg[e1][p1]\n",
    "        if entity_of_u[f[e1]][1] == \"$set\":\n",
    "            v2 = full_rdfg[f[e1]][entity_of_u[f[e1]][0]]\n",
    "        else:\n",
    "            v2 = set([entity_of_u[f[e1]][1]])\n",
    "        \n",
    "        if entity_of_u[f[e1]][0] == p1 and inside(v2, v1):\n",
    "            matched_properties.append((e1, p1, v1))\n",
    "\n",
    "#     print(matched_properties)\n",
    "    both = 0\n",
    "    total = 0\n",
    "    for i in range(len(matched_properties)):\n",
    "        for j in range(i+1, len(matched_properties)):\n",
    "            ans_p = []\n",
    "            ans_u = []\n",
    "#             print(matched_properties[i][0], matched_properties[j][0])\n",
    "#             print(f[matched_properties[i][0]], f[matched_properties[j][0]])\n",
    "            if dfs(matched_properties[i][0], matched_properties[j][0], graph_of_p, ans_p, visited1) and dfs(f[matched_properties[i][0]], f[matched_properties[j][0]], graph_of_u, ans_u, visited2):\n",
    "                ans_p = set(ans_p)\n",
    "                ans_u = set(ans_u)\n",
    "                for e in ans_p:\n",
    "                    if e in ans_u:\n",
    "                        both += 2\n",
    "                total += len(ans_p)\n",
    "                total += len(ans_u)\n",
    "#             print(ans_p)\n",
    "#             print(ans_u)\n",
    "            visited1 = dict()\n",
    "            visited2 = dict()\n",
    "    \n",
    "    if both == 0:\n",
    "        return 0\n",
    "    else:\n",
    "        return both / (total)\n",
    "\n",
    "# print(ecs(result_pattern_graph[1], result_pattern_graph[0], {\n",
    "#     'p1': 'p1',\n",
    "#     'pl1': 'pl1'\n",
    "# }))"
   ]
  },
  {
   "cell_type": "code",
   "execution_count": null,
   "metadata": {},
   "outputs": [],
   "source": [
    "def iterate(depth, result, class_names, Domain, Range, P, U, f, beta):\n",
    "    if depth == len(Domain):\n",
    "        function = dict()\n",
    "        for u, v in f:\n",
    "            function[u] = v\n",
    "        value_eval = beta * eps(P, U, function) + (1 - beta) * ecs(P, U, function)\n",
    "        if value_eval > result[0]:\n",
    "            result[0] = value_eval\n",
    "            result[1] = function\n",
    "        return True\n",
    "            \n",
    "    else:\n",
    "        if class_names[depth] in Range:\n",
    "            for entity_p in Domain[class_names[depth]]:\n",
    "                for entity_u in Range[class_names[depth]]:\n",
    "                    f.append((entity_p, entity_u))\n",
    "                    if iterate(depth+1, result, class_names, Domain, Range, P, U, f, beta):\n",
    "                        f.pop()\n",
    "                    else:\n",
    "                        return False\n",
    "        else:\n",
    "            result[0] = 0\n",
    "            return False\n",
    "                    \n",
    "def isim(P, U, beta):\n",
    "    MAX = [-1, {}]\n",
    "    member_class_p = dict()\n",
    "    member_class_u = dict()\n",
    "    f = []\n",
    "    class_names = []\n",
    "    for u, edge, v in P:\n",
    "        if edge == classOf or edge == typeOf:\n",
    "            if v not in member_class_p:\n",
    "                member_class_p[v] = set()\n",
    "                class_names.append(v)\n",
    "            member_class_p[v].add(u)\n",
    "\n",
    "    for u, edge, v in U:\n",
    "        if edge == classOf or edge == typeOf:\n",
    "            if v not in member_class_u:\n",
    "                member_class_u[v] = set()\n",
    "            member_class_u[v].add(u)\n",
    "\n",
    "#     print(class_names)\n",
    "#     print(member_class_p)\n",
    "#     print(member_class_u)\n",
    "    iterate(0, MAX, class_names, member_class_p, member_class_u, P, U, f, beta)\n",
    "    return MAX\n",
    "\n",
    "# isim(result_pattern_graph[0], result_pattern_graph[2], 0.5)"
   ]
  },
  {
   "cell_type": "code",
   "execution_count": null,
   "metadata": {},
   "outputs": [],
   "source": [
    "def sim(P,U,gamma):\n",
    "    val, func = isim(P, U, 0.5)\n",
    "    return (gamma * esim(P,U,0.5) + (1-gamma) * val, func)\n",
    "\n",
    "print(result_pattern_graph[0])\n",
    "print(result_pattern_graph[1])\n",
    "sim(result_pattern_graph[0], result_pattern_graph[2], 0.7)"
   ]
  },
  {
   "cell_type": "code",
   "execution_count": null,
   "metadata": {},
   "outputs": [],
   "source": [
    "ans = [-1, {}, set()]\n",
    "gamma = 0.5\n",
    "threshold = 0.5\n",
    "\n",
    "# print(cs(result_pattern_graph[0], profile_graph))\n",
    "# print(rs(result_pattern_graph[0], profile_graph))\n",
    "# print(eps(result_pattern_graph[0], profile_graph, {'p2':'y', 'c1':'x'}))\n",
    "# print(ecs(result_pattern_graph[0], profile_graph, {'p2':'y', 'c1':'x'}))\n",
    "# print(profile_graph)\n",
    "# print(sim(result_pattern_graph[0], profile_graph, gamma))\n",
    "print('Result: ')\n",
    "for pgraph in result_pattern_graph:\n",
    "    val, func = sim(pgraph, profile_graph, gamma)\n",
    "    if val > threshold:\n",
    "        ans[0] = val\n",
    "        ans[1] = func\n",
    "        ans[2] = pgraph\n",
    "        for x, _ in func.items():\n",
    "            for item in WordToLink[x]:\n",
    "                print('<answer>\\n\\t' + str(item) + '\\n</answer>')\n"
   ]
  },
  {
   "cell_type": "raw",
   "metadata": {},
   "source": []
  }
 ],
 "metadata": {
  "kernelspec": {
   "display_name": "Python 3",
   "language": "python",
   "name": "python3"
  },
  "language_info": {
   "codemirror_mode": {
    "name": "ipython",
    "version": 3
   },
   "file_extension": ".py",
   "mimetype": "text/x-python",
   "name": "python",
   "nbconvert_exporter": "python",
   "pygments_lexer": "ipython3",
   "version": "3.7.3"
  }
 },
 "nbformat": 4,
 "nbformat_minor": 2
}
